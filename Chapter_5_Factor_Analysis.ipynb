{
  "nbformat": 4,
  "nbformat_minor": 0,
  "metadata": {
    "colab": {
      "name": "Chapter 5 Factor Analysis.ipynb",
      "provenance": [],
      "toc_visible": true,
      "authorship_tag": "ABX9TyPMqq6zGgtnkWrfavF1O9zd",
      "include_colab_link": true
    },
    "kernelspec": {
      "name": "python3",
      "display_name": "Python 3"
    },
    "language_info": {
      "name": "python"
    }
  },
  "cells": [
    {
      "cell_type": "markdown",
      "metadata": {
        "id": "view-in-github",
        "colab_type": "text"
      },
      "source": [
        "<a href=\"https://colab.research.google.com/github/Chanakarn06/multivariate-/blob/main/Chapter_5_Factor_Analysis.ipynb\" target=\"_parent\"><img src=\"https://colab.research.google.com/assets/colab-badge.svg\" alt=\"Open In Colab\"/></a>"
      ]
    },
    {
      "cell_type": "markdown",
      "metadata": {
        "id": "h-5VZFGQXRRi"
      },
      "source": [
        "https://www.datacamp.com/community/tutorials/introduction-factor-analysis"
      ]
    },
    {
      "cell_type": "code",
      "metadata": {
        "id": "P99sTnHTXLaa"
      },
      "source": [
        "import pandas as pd"
      ],
      "execution_count": 9,
      "outputs": []
    },
    {
      "cell_type": "code",
      "metadata": {
        "id": "zlwXA99rXVix"
      },
      "source": [
        "BFI_data = pd.read_csv('/content/bfi.csv')"
      ],
      "execution_count": 10,
      "outputs": []
    },
    {
      "cell_type": "code",
      "metadata": {
        "colab": {
          "base_uri": "https://localhost:8080/",
          "height": 237
        },
        "id": "PfziUG2GYG9W",
        "outputId": "9f446003-4089-4cb8-f2ff-67bb694604c8"
      },
      "source": [
        "BFI_data.head()"
      ],
      "execution_count": 11,
      "outputs": [
        {
          "output_type": "execute_result",
          "data": {
            "text/html": [
              "<div>\n",
              "<style scoped>\n",
              "    .dataframe tbody tr th:only-of-type {\n",
              "        vertical-align: middle;\n",
              "    }\n",
              "\n",
              "    .dataframe tbody tr th {\n",
              "        vertical-align: top;\n",
              "    }\n",
              "\n",
              "    .dataframe thead th {\n",
              "        text-align: right;\n",
              "    }\n",
              "</style>\n",
              "<table border=\"1\" class=\"dataframe\">\n",
              "  <thead>\n",
              "    <tr style=\"text-align: right;\">\n",
              "      <th></th>\n",
              "      <th>Unnamed: 0</th>\n",
              "      <th>A1</th>\n",
              "      <th>A2</th>\n",
              "      <th>A3</th>\n",
              "      <th>A4</th>\n",
              "      <th>A5</th>\n",
              "      <th>C1</th>\n",
              "      <th>C2</th>\n",
              "      <th>C3</th>\n",
              "      <th>C4</th>\n",
              "      <th>C5</th>\n",
              "      <th>E1</th>\n",
              "      <th>E2</th>\n",
              "      <th>E3</th>\n",
              "      <th>E4</th>\n",
              "      <th>E5</th>\n",
              "      <th>N1</th>\n",
              "      <th>N2</th>\n",
              "      <th>N3</th>\n",
              "      <th>N4</th>\n",
              "      <th>N5</th>\n",
              "      <th>O1</th>\n",
              "      <th>O2</th>\n",
              "      <th>O3</th>\n",
              "      <th>O4</th>\n",
              "      <th>O5</th>\n",
              "      <th>gender</th>\n",
              "      <th>education</th>\n",
              "      <th>age</th>\n",
              "    </tr>\n",
              "  </thead>\n",
              "  <tbody>\n",
              "    <tr>\n",
              "      <th>0</th>\n",
              "      <td>61617</td>\n",
              "      <td>2.0</td>\n",
              "      <td>4.0</td>\n",
              "      <td>3.0</td>\n",
              "      <td>4.0</td>\n",
              "      <td>4.0</td>\n",
              "      <td>2.0</td>\n",
              "      <td>3.0</td>\n",
              "      <td>3.0</td>\n",
              "      <td>4.0</td>\n",
              "      <td>4.0</td>\n",
              "      <td>3.0</td>\n",
              "      <td>3.0</td>\n",
              "      <td>3.0</td>\n",
              "      <td>4.0</td>\n",
              "      <td>4.0</td>\n",
              "      <td>3.0</td>\n",
              "      <td>4.0</td>\n",
              "      <td>2.0</td>\n",
              "      <td>2.0</td>\n",
              "      <td>3.0</td>\n",
              "      <td>3.0</td>\n",
              "      <td>6</td>\n",
              "      <td>3.0</td>\n",
              "      <td>4.0</td>\n",
              "      <td>3.0</td>\n",
              "      <td>1</td>\n",
              "      <td>NaN</td>\n",
              "      <td>16</td>\n",
              "    </tr>\n",
              "    <tr>\n",
              "      <th>1</th>\n",
              "      <td>61618</td>\n",
              "      <td>2.0</td>\n",
              "      <td>4.0</td>\n",
              "      <td>5.0</td>\n",
              "      <td>2.0</td>\n",
              "      <td>5.0</td>\n",
              "      <td>5.0</td>\n",
              "      <td>4.0</td>\n",
              "      <td>4.0</td>\n",
              "      <td>3.0</td>\n",
              "      <td>4.0</td>\n",
              "      <td>1.0</td>\n",
              "      <td>1.0</td>\n",
              "      <td>6.0</td>\n",
              "      <td>4.0</td>\n",
              "      <td>3.0</td>\n",
              "      <td>3.0</td>\n",
              "      <td>3.0</td>\n",
              "      <td>3.0</td>\n",
              "      <td>5.0</td>\n",
              "      <td>5.0</td>\n",
              "      <td>4.0</td>\n",
              "      <td>2</td>\n",
              "      <td>4.0</td>\n",
              "      <td>3.0</td>\n",
              "      <td>3.0</td>\n",
              "      <td>2</td>\n",
              "      <td>NaN</td>\n",
              "      <td>18</td>\n",
              "    </tr>\n",
              "    <tr>\n",
              "      <th>2</th>\n",
              "      <td>61620</td>\n",
              "      <td>5.0</td>\n",
              "      <td>4.0</td>\n",
              "      <td>5.0</td>\n",
              "      <td>4.0</td>\n",
              "      <td>4.0</td>\n",
              "      <td>4.0</td>\n",
              "      <td>5.0</td>\n",
              "      <td>4.0</td>\n",
              "      <td>2.0</td>\n",
              "      <td>5.0</td>\n",
              "      <td>2.0</td>\n",
              "      <td>4.0</td>\n",
              "      <td>4.0</td>\n",
              "      <td>4.0</td>\n",
              "      <td>5.0</td>\n",
              "      <td>4.0</td>\n",
              "      <td>5.0</td>\n",
              "      <td>4.0</td>\n",
              "      <td>2.0</td>\n",
              "      <td>3.0</td>\n",
              "      <td>4.0</td>\n",
              "      <td>2</td>\n",
              "      <td>5.0</td>\n",
              "      <td>5.0</td>\n",
              "      <td>2.0</td>\n",
              "      <td>2</td>\n",
              "      <td>NaN</td>\n",
              "      <td>17</td>\n",
              "    </tr>\n",
              "    <tr>\n",
              "      <th>3</th>\n",
              "      <td>61621</td>\n",
              "      <td>4.0</td>\n",
              "      <td>4.0</td>\n",
              "      <td>6.0</td>\n",
              "      <td>5.0</td>\n",
              "      <td>5.0</td>\n",
              "      <td>4.0</td>\n",
              "      <td>4.0</td>\n",
              "      <td>3.0</td>\n",
              "      <td>5.0</td>\n",
              "      <td>5.0</td>\n",
              "      <td>5.0</td>\n",
              "      <td>3.0</td>\n",
              "      <td>4.0</td>\n",
              "      <td>4.0</td>\n",
              "      <td>4.0</td>\n",
              "      <td>2.0</td>\n",
              "      <td>5.0</td>\n",
              "      <td>2.0</td>\n",
              "      <td>4.0</td>\n",
              "      <td>1.0</td>\n",
              "      <td>3.0</td>\n",
              "      <td>3</td>\n",
              "      <td>4.0</td>\n",
              "      <td>3.0</td>\n",
              "      <td>5.0</td>\n",
              "      <td>2</td>\n",
              "      <td>NaN</td>\n",
              "      <td>17</td>\n",
              "    </tr>\n",
              "    <tr>\n",
              "      <th>4</th>\n",
              "      <td>61622</td>\n",
              "      <td>2.0</td>\n",
              "      <td>3.0</td>\n",
              "      <td>3.0</td>\n",
              "      <td>4.0</td>\n",
              "      <td>5.0</td>\n",
              "      <td>4.0</td>\n",
              "      <td>4.0</td>\n",
              "      <td>5.0</td>\n",
              "      <td>3.0</td>\n",
              "      <td>2.0</td>\n",
              "      <td>2.0</td>\n",
              "      <td>2.0</td>\n",
              "      <td>5.0</td>\n",
              "      <td>4.0</td>\n",
              "      <td>5.0</td>\n",
              "      <td>2.0</td>\n",
              "      <td>3.0</td>\n",
              "      <td>4.0</td>\n",
              "      <td>4.0</td>\n",
              "      <td>3.0</td>\n",
              "      <td>3.0</td>\n",
              "      <td>3</td>\n",
              "      <td>4.0</td>\n",
              "      <td>3.0</td>\n",
              "      <td>3.0</td>\n",
              "      <td>1</td>\n",
              "      <td>NaN</td>\n",
              "      <td>17</td>\n",
              "    </tr>\n",
              "  </tbody>\n",
              "</table>\n",
              "</div>"
            ],
            "text/plain": [
              "   Unnamed: 0   A1   A2   A3   A4   A5  ...   O3   O4   O5  gender  education  age\n",
              "0       61617  2.0  4.0  3.0  4.0  4.0  ...  3.0  4.0  3.0       1        NaN   16\n",
              "1       61618  2.0  4.0  5.0  2.0  5.0  ...  4.0  3.0  3.0       2        NaN   18\n",
              "2       61620  5.0  4.0  5.0  4.0  4.0  ...  5.0  5.0  2.0       2        NaN   17\n",
              "3       61621  4.0  4.0  6.0  5.0  5.0  ...  4.0  3.0  5.0       2        NaN   17\n",
              "4       61622  2.0  3.0  3.0  4.0  5.0  ...  4.0  3.0  3.0       1        NaN   17\n",
              "\n",
              "[5 rows x 29 columns]"
            ]
          },
          "metadata": {
            "tags": []
          },
          "execution_count": 11
        }
      ]
    },
    {
      "cell_type": "markdown",
      "metadata": {
        "id": "YTQG1AuFYJmv"
      },
      "source": [
        "Factor Analysis\n",
        "Assumptions :\n",
        "\n",
        "ในข้อมูล multivariale ที่มีตัวแปร observe variable จำนวน n ตัว\n",
        "\n",
        "มีตัวแปร Factor (Latent Variables) จำนวน k ตัวที่สามารถอธิบายข้อมูลทั้งหมดได้\n",
        "\n",
        "โดย k < n"
      ]
    },
    {
      "cell_type": "markdown",
      "metadata": {
        "id": "VOsRea_dYMlv"
      },
      "source": [
        "![166226255_217522026820331_4848334884372471181_n.png](data:image/png;base64,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)"
      ]
    },
    {
      "cell_type": "markdown",
      "metadata": {
        "id": "URBPx3JFYS0z"
      },
      "source": [
        "## **Assumptions ในการทำ Factor analysis**\n",
        "\n",
        "* There are no outliers in data.\n",
        "\n",
        "* Sample size should be greater than the factor.\n",
        "\n",
        "* There should not be perfect ***multicollinearity***.\n",
        "\n",
        "* There should not be ***homoscedasticity*** between the variables."
      ]
    },
    {
      "cell_type": "markdown",
      "metadata": {
        "id": "9ASrYHeOYUhY"
      },
      "source": [
        "การทำ Factor Analysis"
      ]
    },
    {
      "cell_type": "code",
      "metadata": {
        "colab": {
          "base_uri": "https://localhost:8080/"
        },
        "id": "6GBaH_r9YWHB",
        "outputId": "d489d3b9-0466-45b9-98a1-24ef6c0e8fc1"
      },
      "source": [
        "!pip install factor_analyzer\n",
        "##แก้ Error ด้วยการ install\n",
        "from factor_analyzer import FactorAnalyzer\n",
        "import matplotlib.pyplot as plt \n",
        "## เหมือนกับ from matplotlib import pyplot as plt"
      ],
      "execution_count": 12,
      "outputs": [
        {
          "output_type": "stream",
          "text": [
            "Collecting factor_analyzer\n",
            "\u001b[?25l  Downloading https://files.pythonhosted.org/packages/44/b5/cbd83484ca6dd4c6562c6d66a6a3a0ecf526e79b2b575b9fb4bf5ad172dd/factor_analyzer-0.3.2.tar.gz (40kB)\n",
            "\r\u001b[K     |████████▏                       | 10kB 14.7MB/s eta 0:00:01\r\u001b[K     |████████████████▍               | 20kB 19.8MB/s eta 0:00:01\r\u001b[K     |████████████████████████▌       | 30kB 11.8MB/s eta 0:00:01\r\u001b[K     |████████████████████████████████| 40kB 3.1MB/s \n",
            "\u001b[?25hRequirement already satisfied: pandas in /usr/local/lib/python3.7/dist-packages (from factor_analyzer) (1.1.5)\n",
            "Requirement already satisfied: scipy in /usr/local/lib/python3.7/dist-packages (from factor_analyzer) (1.4.1)\n",
            "Requirement already satisfied: numpy in /usr/local/lib/python3.7/dist-packages (from factor_analyzer) (1.19.5)\n",
            "Requirement already satisfied: scikit-learn in /usr/local/lib/python3.7/dist-packages (from factor_analyzer) (0.22.2.post1)\n",
            "Requirement already satisfied: python-dateutil>=2.7.3 in /usr/local/lib/python3.7/dist-packages (from pandas->factor_analyzer) (2.8.1)\n",
            "Requirement already satisfied: pytz>=2017.2 in /usr/local/lib/python3.7/dist-packages (from pandas->factor_analyzer) (2018.9)\n",
            "Requirement already satisfied: joblib>=0.11 in /usr/local/lib/python3.7/dist-packages (from scikit-learn->factor_analyzer) (1.0.1)\n",
            "Requirement already satisfied: six>=1.5 in /usr/local/lib/python3.7/dist-packages (from python-dateutil>=2.7.3->pandas->factor_analyzer) (1.15.0)\n",
            "Building wheels for collected packages: factor-analyzer\n",
            "  Building wheel for factor-analyzer (setup.py) ... \u001b[?25l\u001b[?25hdone\n",
            "  Created wheel for factor-analyzer: filename=factor_analyzer-0.3.2-cp37-none-any.whl size=40383 sha256=c5a803d126653af25dcdd793a86734c757a9631c846c2b2ee292ad06dcbb0339\n",
            "  Stored in directory: /root/.cache/pip/wheels/4a/d0/57/f1330cb9c80e82d8d05391c74c94ed61ce3f03bf6157f3d6db\n",
            "Successfully built factor-analyzer\n",
            "Installing collected packages: factor-analyzer\n",
            "Successfully installed factor-analyzer-0.3.2\n"
          ],
          "name": "stdout"
        }
      ]
    },
    {
      "cell_type": "markdown",
      "metadata": {
        "id": "mGvoNsTrYaGp"
      },
      "source": [
        "Quiz 5 เลือกข้อมูลมาเฉพาะ a1,a2,...,o5,o6"
      ]
    },
    {
      "cell_type": "code",
      "metadata": {
        "colab": {
          "base_uri": "https://localhost:8080/"
        },
        "id": "9KVK_t5AYbTv",
        "outputId": "8194f890-1739-48a0-9c87-4394b43bf372"
      },
      "source": [
        "BFI_data.shape"
      ],
      "execution_count": 13,
      "outputs": [
        {
          "output_type": "execute_result",
          "data": {
            "text/plain": [
              "(2800, 29)"
            ]
          },
          "metadata": {
            "tags": []
          },
          "execution_count": 13
        }
      ]
    },
    {
      "cell_type": "code",
      "metadata": {
        "colab": {
          "base_uri": "https://localhost:8080/",
          "height": 411
        },
        "id": "Bpd8hEsGYejX",
        "outputId": "ebfa9232-8601-44f2-ac49-682a845f3adc"
      },
      "source": [
        "BFI_data_dropped = BFI_data.iloc[:,1:-3]\n",
        "BFI_data_dropped\n"
      ],
      "execution_count": 14,
      "outputs": [
        {
          "output_type": "execute_result",
          "data": {
            "text/html": [
              "<div>\n",
              "<style scoped>\n",
              "    .dataframe tbody tr th:only-of-type {\n",
              "        vertical-align: middle;\n",
              "    }\n",
              "\n",
              "    .dataframe tbody tr th {\n",
              "        vertical-align: top;\n",
              "    }\n",
              "\n",
              "    .dataframe thead th {\n",
              "        text-align: right;\n",
              "    }\n",
              "</style>\n",
              "<table border=\"1\" class=\"dataframe\">\n",
              "  <thead>\n",
              "    <tr style=\"text-align: right;\">\n",
              "      <th></th>\n",
              "      <th>A1</th>\n",
              "      <th>A2</th>\n",
              "      <th>A3</th>\n",
              "      <th>A4</th>\n",
              "      <th>A5</th>\n",
              "      <th>C1</th>\n",
              "      <th>C2</th>\n",
              "      <th>C3</th>\n",
              "      <th>C4</th>\n",
              "      <th>C5</th>\n",
              "      <th>E1</th>\n",
              "      <th>E2</th>\n",
              "      <th>E3</th>\n",
              "      <th>E4</th>\n",
              "      <th>E5</th>\n",
              "      <th>N1</th>\n",
              "      <th>N2</th>\n",
              "      <th>N3</th>\n",
              "      <th>N4</th>\n",
              "      <th>N5</th>\n",
              "      <th>O1</th>\n",
              "      <th>O2</th>\n",
              "      <th>O3</th>\n",
              "      <th>O4</th>\n",
              "      <th>O5</th>\n",
              "    </tr>\n",
              "  </thead>\n",
              "  <tbody>\n",
              "    <tr>\n",
              "      <th>0</th>\n",
              "      <td>2.0</td>\n",
              "      <td>4.0</td>\n",
              "      <td>3.0</td>\n",
              "      <td>4.0</td>\n",
              "      <td>4.0</td>\n",
              "      <td>2.0</td>\n",
              "      <td>3.0</td>\n",
              "      <td>3.0</td>\n",
              "      <td>4.0</td>\n",
              "      <td>4.0</td>\n",
              "      <td>3.0</td>\n",
              "      <td>3.0</td>\n",
              "      <td>3.0</td>\n",
              "      <td>4.0</td>\n",
              "      <td>4.0</td>\n",
              "      <td>3.0</td>\n",
              "      <td>4.0</td>\n",
              "      <td>2.0</td>\n",
              "      <td>2.0</td>\n",
              "      <td>3.0</td>\n",
              "      <td>3.0</td>\n",
              "      <td>6</td>\n",
              "      <td>3.0</td>\n",
              "      <td>4.0</td>\n",
              "      <td>3.0</td>\n",
              "    </tr>\n",
              "    <tr>\n",
              "      <th>1</th>\n",
              "      <td>2.0</td>\n",
              "      <td>4.0</td>\n",
              "      <td>5.0</td>\n",
              "      <td>2.0</td>\n",
              "      <td>5.0</td>\n",
              "      <td>5.0</td>\n",
              "      <td>4.0</td>\n",
              "      <td>4.0</td>\n",
              "      <td>3.0</td>\n",
              "      <td>4.0</td>\n",
              "      <td>1.0</td>\n",
              "      <td>1.0</td>\n",
              "      <td>6.0</td>\n",
              "      <td>4.0</td>\n",
              "      <td>3.0</td>\n",
              "      <td>3.0</td>\n",
              "      <td>3.0</td>\n",
              "      <td>3.0</td>\n",
              "      <td>5.0</td>\n",
              "      <td>5.0</td>\n",
              "      <td>4.0</td>\n",
              "      <td>2</td>\n",
              "      <td>4.0</td>\n",
              "      <td>3.0</td>\n",
              "      <td>3.0</td>\n",
              "    </tr>\n",
              "    <tr>\n",
              "      <th>2</th>\n",
              "      <td>5.0</td>\n",
              "      <td>4.0</td>\n",
              "      <td>5.0</td>\n",
              "      <td>4.0</td>\n",
              "      <td>4.0</td>\n",
              "      <td>4.0</td>\n",
              "      <td>5.0</td>\n",
              "      <td>4.0</td>\n",
              "      <td>2.0</td>\n",
              "      <td>5.0</td>\n",
              "      <td>2.0</td>\n",
              "      <td>4.0</td>\n",
              "      <td>4.0</td>\n",
              "      <td>4.0</td>\n",
              "      <td>5.0</td>\n",
              "      <td>4.0</td>\n",
              "      <td>5.0</td>\n",
              "      <td>4.0</td>\n",
              "      <td>2.0</td>\n",
              "      <td>3.0</td>\n",
              "      <td>4.0</td>\n",
              "      <td>2</td>\n",
              "      <td>5.0</td>\n",
              "      <td>5.0</td>\n",
              "      <td>2.0</td>\n",
              "    </tr>\n",
              "    <tr>\n",
              "      <th>3</th>\n",
              "      <td>4.0</td>\n",
              "      <td>4.0</td>\n",
              "      <td>6.0</td>\n",
              "      <td>5.0</td>\n",
              "      <td>5.0</td>\n",
              "      <td>4.0</td>\n",
              "      <td>4.0</td>\n",
              "      <td>3.0</td>\n",
              "      <td>5.0</td>\n",
              "      <td>5.0</td>\n",
              "      <td>5.0</td>\n",
              "      <td>3.0</td>\n",
              "      <td>4.0</td>\n",
              "      <td>4.0</td>\n",
              "      <td>4.0</td>\n",
              "      <td>2.0</td>\n",
              "      <td>5.0</td>\n",
              "      <td>2.0</td>\n",
              "      <td>4.0</td>\n",
              "      <td>1.0</td>\n",
              "      <td>3.0</td>\n",
              "      <td>3</td>\n",
              "      <td>4.0</td>\n",
              "      <td>3.0</td>\n",
              "      <td>5.0</td>\n",
              "    </tr>\n",
              "    <tr>\n",
              "      <th>4</th>\n",
              "      <td>2.0</td>\n",
              "      <td>3.0</td>\n",
              "      <td>3.0</td>\n",
              "      <td>4.0</td>\n",
              "      <td>5.0</td>\n",
              "      <td>4.0</td>\n",
              "      <td>4.0</td>\n",
              "      <td>5.0</td>\n",
              "      <td>3.0</td>\n",
              "      <td>2.0</td>\n",
              "      <td>2.0</td>\n",
              "      <td>2.0</td>\n",
              "      <td>5.0</td>\n",
              "      <td>4.0</td>\n",
              "      <td>5.0</td>\n",
              "      <td>2.0</td>\n",
              "      <td>3.0</td>\n",
              "      <td>4.0</td>\n",
              "      <td>4.0</td>\n",
              "      <td>3.0</td>\n",
              "      <td>3.0</td>\n",
              "      <td>3</td>\n",
              "      <td>4.0</td>\n",
              "      <td>3.0</td>\n",
              "      <td>3.0</td>\n",
              "    </tr>\n",
              "    <tr>\n",
              "      <th>...</th>\n",
              "      <td>...</td>\n",
              "      <td>...</td>\n",
              "      <td>...</td>\n",
              "      <td>...</td>\n",
              "      <td>...</td>\n",
              "      <td>...</td>\n",
              "      <td>...</td>\n",
              "      <td>...</td>\n",
              "      <td>...</td>\n",
              "      <td>...</td>\n",
              "      <td>...</td>\n",
              "      <td>...</td>\n",
              "      <td>...</td>\n",
              "      <td>...</td>\n",
              "      <td>...</td>\n",
              "      <td>...</td>\n",
              "      <td>...</td>\n",
              "      <td>...</td>\n",
              "      <td>...</td>\n",
              "      <td>...</td>\n",
              "      <td>...</td>\n",
              "      <td>...</td>\n",
              "      <td>...</td>\n",
              "      <td>...</td>\n",
              "      <td>...</td>\n",
              "    </tr>\n",
              "    <tr>\n",
              "      <th>2795</th>\n",
              "      <td>6.0</td>\n",
              "      <td>1.0</td>\n",
              "      <td>3.0</td>\n",
              "      <td>3.0</td>\n",
              "      <td>3.0</td>\n",
              "      <td>6.0</td>\n",
              "      <td>6.0</td>\n",
              "      <td>6.0</td>\n",
              "      <td>1.0</td>\n",
              "      <td>1.0</td>\n",
              "      <td>1.0</td>\n",
              "      <td>4.0</td>\n",
              "      <td>5.0</td>\n",
              "      <td>5.0</td>\n",
              "      <td>6.0</td>\n",
              "      <td>1.0</td>\n",
              "      <td>1.0</td>\n",
              "      <td>1.0</td>\n",
              "      <td>NaN</td>\n",
              "      <td>1.0</td>\n",
              "      <td>6.0</td>\n",
              "      <td>1</td>\n",
              "      <td>6.0</td>\n",
              "      <td>6.0</td>\n",
              "      <td>1.0</td>\n",
              "    </tr>\n",
              "    <tr>\n",
              "      <th>2796</th>\n",
              "      <td>2.0</td>\n",
              "      <td>4.0</td>\n",
              "      <td>4.0</td>\n",
              "      <td>3.0</td>\n",
              "      <td>5.0</td>\n",
              "      <td>2.0</td>\n",
              "      <td>3.0</td>\n",
              "      <td>4.0</td>\n",
              "      <td>4.0</td>\n",
              "      <td>3.0</td>\n",
              "      <td>2.0</td>\n",
              "      <td>2.0</td>\n",
              "      <td>4.0</td>\n",
              "      <td>4.0</td>\n",
              "      <td>3.0</td>\n",
              "      <td>NaN</td>\n",
              "      <td>3.0</td>\n",
              "      <td>2.0</td>\n",
              "      <td>3.0</td>\n",
              "      <td>3.0</td>\n",
              "      <td>6.0</td>\n",
              "      <td>3</td>\n",
              "      <td>5.0</td>\n",
              "      <td>4.0</td>\n",
              "      <td>2.0</td>\n",
              "    </tr>\n",
              "    <tr>\n",
              "      <th>2797</th>\n",
              "      <td>2.0</td>\n",
              "      <td>3.0</td>\n",
              "      <td>5.0</td>\n",
              "      <td>2.0</td>\n",
              "      <td>5.0</td>\n",
              "      <td>5.0</td>\n",
              "      <td>5.0</td>\n",
              "      <td>5.0</td>\n",
              "      <td>1.0</td>\n",
              "      <td>1.0</td>\n",
              "      <td>2.0</td>\n",
              "      <td>2.0</td>\n",
              "      <td>6.0</td>\n",
              "      <td>3.0</td>\n",
              "      <td>6.0</td>\n",
              "      <td>3.0</td>\n",
              "      <td>4.0</td>\n",
              "      <td>3.0</td>\n",
              "      <td>3.0</td>\n",
              "      <td>1.0</td>\n",
              "      <td>5.0</td>\n",
              "      <td>1</td>\n",
              "      <td>6.0</td>\n",
              "      <td>4.0</td>\n",
              "      <td>3.0</td>\n",
              "    </tr>\n",
              "    <tr>\n",
              "      <th>2798</th>\n",
              "      <td>5.0</td>\n",
              "      <td>2.0</td>\n",
              "      <td>2.0</td>\n",
              "      <td>4.0</td>\n",
              "      <td>4.0</td>\n",
              "      <td>5.0</td>\n",
              "      <td>5.0</td>\n",
              "      <td>5.0</td>\n",
              "      <td>2.0</td>\n",
              "      <td>6.0</td>\n",
              "      <td>2.0</td>\n",
              "      <td>2.0</td>\n",
              "      <td>4.0</td>\n",
              "      <td>5.0</td>\n",
              "      <td>4.0</td>\n",
              "      <td>5.0</td>\n",
              "      <td>5.0</td>\n",
              "      <td>6.0</td>\n",
              "      <td>4.0</td>\n",
              "      <td>1.0</td>\n",
              "      <td>5.0</td>\n",
              "      <td>2</td>\n",
              "      <td>5.0</td>\n",
              "      <td>5.0</td>\n",
              "      <td>1.0</td>\n",
              "    </tr>\n",
              "    <tr>\n",
              "      <th>2799</th>\n",
              "      <td>2.0</td>\n",
              "      <td>3.0</td>\n",
              "      <td>1.0</td>\n",
              "      <td>4.0</td>\n",
              "      <td>2.0</td>\n",
              "      <td>5.0</td>\n",
              "      <td>5.0</td>\n",
              "      <td>3.0</td>\n",
              "      <td>3.0</td>\n",
              "      <td>3.0</td>\n",
              "      <td>3.0</td>\n",
              "      <td>3.0</td>\n",
              "      <td>1.0</td>\n",
              "      <td>2.0</td>\n",
              "      <td>2.0</td>\n",
              "      <td>1.0</td>\n",
              "      <td>2.0</td>\n",
              "      <td>2.0</td>\n",
              "      <td>1.0</td>\n",
              "      <td>1.0</td>\n",
              "      <td>3.0</td>\n",
              "      <td>1</td>\n",
              "      <td>3.0</td>\n",
              "      <td>5.0</td>\n",
              "      <td>1.0</td>\n",
              "    </tr>\n",
              "  </tbody>\n",
              "</table>\n",
              "<p>2800 rows × 25 columns</p>\n",
              "</div>"
            ],
            "text/plain": [
              "       A1   A2   A3   A4   A5   C1   C2  ...   N4   N5   O1  O2   O3   O4   O5\n",
              "0     2.0  4.0  3.0  4.0  4.0  2.0  3.0  ...  2.0  3.0  3.0   6  3.0  4.0  3.0\n",
              "1     2.0  4.0  5.0  2.0  5.0  5.0  4.0  ...  5.0  5.0  4.0   2  4.0  3.0  3.0\n",
              "2     5.0  4.0  5.0  4.0  4.0  4.0  5.0  ...  2.0  3.0  4.0   2  5.0  5.0  2.0\n",
              "3     4.0  4.0  6.0  5.0  5.0  4.0  4.0  ...  4.0  1.0  3.0   3  4.0  3.0  5.0\n",
              "4     2.0  3.0  3.0  4.0  5.0  4.0  4.0  ...  4.0  3.0  3.0   3  4.0  3.0  3.0\n",
              "...   ...  ...  ...  ...  ...  ...  ...  ...  ...  ...  ...  ..  ...  ...  ...\n",
              "2795  6.0  1.0  3.0  3.0  3.0  6.0  6.0  ...  NaN  1.0  6.0   1  6.0  6.0  1.0\n",
              "2796  2.0  4.0  4.0  3.0  5.0  2.0  3.0  ...  3.0  3.0  6.0   3  5.0  4.0  2.0\n",
              "2797  2.0  3.0  5.0  2.0  5.0  5.0  5.0  ...  3.0  1.0  5.0   1  6.0  4.0  3.0\n",
              "2798  5.0  2.0  2.0  4.0  4.0  5.0  5.0  ...  4.0  1.0  5.0   2  5.0  5.0  1.0\n",
              "2799  2.0  3.0  1.0  4.0  2.0  5.0  5.0  ...  1.0  1.0  3.0   1  3.0  5.0  1.0\n",
              "\n",
              "[2800 rows x 25 columns]"
            ]
          },
          "metadata": {
            "tags": []
          },
          "execution_count": 14
        }
      ]
    },
    {
      "cell_type": "code",
      "metadata": {
        "id": "NkOOI9LtzRjn",
        "colab": {
          "base_uri": "https://localhost:8080/",
          "height": 411
        },
        "outputId": "3b1c6259-7803-4841-bc44-8585314e563e"
      },
      "source": [
        "BFI_data_dropped = BFI_data_dropped.dropna()\n",
        "BFI_data_dropped"
      ],
      "execution_count": 15,
      "outputs": [
        {
          "output_type": "execute_result",
          "data": {
            "text/html": [
              "<div>\n",
              "<style scoped>\n",
              "    .dataframe tbody tr th:only-of-type {\n",
              "        vertical-align: middle;\n",
              "    }\n",
              "\n",
              "    .dataframe tbody tr th {\n",
              "        vertical-align: top;\n",
              "    }\n",
              "\n",
              "    .dataframe thead th {\n",
              "        text-align: right;\n",
              "    }\n",
              "</style>\n",
              "<table border=\"1\" class=\"dataframe\">\n",
              "  <thead>\n",
              "    <tr style=\"text-align: right;\">\n",
              "      <th></th>\n",
              "      <th>A1</th>\n",
              "      <th>A2</th>\n",
              "      <th>A3</th>\n",
              "      <th>A4</th>\n",
              "      <th>A5</th>\n",
              "      <th>C1</th>\n",
              "      <th>C2</th>\n",
              "      <th>C3</th>\n",
              "      <th>C4</th>\n",
              "      <th>C5</th>\n",
              "      <th>E1</th>\n",
              "      <th>E2</th>\n",
              "      <th>E3</th>\n",
              "      <th>E4</th>\n",
              "      <th>E5</th>\n",
              "      <th>N1</th>\n",
              "      <th>N2</th>\n",
              "      <th>N3</th>\n",
              "      <th>N4</th>\n",
              "      <th>N5</th>\n",
              "      <th>O1</th>\n",
              "      <th>O2</th>\n",
              "      <th>O3</th>\n",
              "      <th>O4</th>\n",
              "      <th>O5</th>\n",
              "    </tr>\n",
              "  </thead>\n",
              "  <tbody>\n",
              "    <tr>\n",
              "      <th>0</th>\n",
              "      <td>2.0</td>\n",
              "      <td>4.0</td>\n",
              "      <td>3.0</td>\n",
              "      <td>4.0</td>\n",
              "      <td>4.0</td>\n",
              "      <td>2.0</td>\n",
              "      <td>3.0</td>\n",
              "      <td>3.0</td>\n",
              "      <td>4.0</td>\n",
              "      <td>4.0</td>\n",
              "      <td>3.0</td>\n",
              "      <td>3.0</td>\n",
              "      <td>3.0</td>\n",
              "      <td>4.0</td>\n",
              "      <td>4.0</td>\n",
              "      <td>3.0</td>\n",
              "      <td>4.0</td>\n",
              "      <td>2.0</td>\n",
              "      <td>2.0</td>\n",
              "      <td>3.0</td>\n",
              "      <td>3.0</td>\n",
              "      <td>6</td>\n",
              "      <td>3.0</td>\n",
              "      <td>4.0</td>\n",
              "      <td>3.0</td>\n",
              "    </tr>\n",
              "    <tr>\n",
              "      <th>1</th>\n",
              "      <td>2.0</td>\n",
              "      <td>4.0</td>\n",
              "      <td>5.0</td>\n",
              "      <td>2.0</td>\n",
              "      <td>5.0</td>\n",
              "      <td>5.0</td>\n",
              "      <td>4.0</td>\n",
              "      <td>4.0</td>\n",
              "      <td>3.0</td>\n",
              "      <td>4.0</td>\n",
              "      <td>1.0</td>\n",
              "      <td>1.0</td>\n",
              "      <td>6.0</td>\n",
              "      <td>4.0</td>\n",
              "      <td>3.0</td>\n",
              "      <td>3.0</td>\n",
              "      <td>3.0</td>\n",
              "      <td>3.0</td>\n",
              "      <td>5.0</td>\n",
              "      <td>5.0</td>\n",
              "      <td>4.0</td>\n",
              "      <td>2</td>\n",
              "      <td>4.0</td>\n",
              "      <td>3.0</td>\n",
              "      <td>3.0</td>\n",
              "    </tr>\n",
              "    <tr>\n",
              "      <th>2</th>\n",
              "      <td>5.0</td>\n",
              "      <td>4.0</td>\n",
              "      <td>5.0</td>\n",
              "      <td>4.0</td>\n",
              "      <td>4.0</td>\n",
              "      <td>4.0</td>\n",
              "      <td>5.0</td>\n",
              "      <td>4.0</td>\n",
              "      <td>2.0</td>\n",
              "      <td>5.0</td>\n",
              "      <td>2.0</td>\n",
              "      <td>4.0</td>\n",
              "      <td>4.0</td>\n",
              "      <td>4.0</td>\n",
              "      <td>5.0</td>\n",
              "      <td>4.0</td>\n",
              "      <td>5.0</td>\n",
              "      <td>4.0</td>\n",
              "      <td>2.0</td>\n",
              "      <td>3.0</td>\n",
              "      <td>4.0</td>\n",
              "      <td>2</td>\n",
              "      <td>5.0</td>\n",
              "      <td>5.0</td>\n",
              "      <td>2.0</td>\n",
              "    </tr>\n",
              "    <tr>\n",
              "      <th>3</th>\n",
              "      <td>4.0</td>\n",
              "      <td>4.0</td>\n",
              "      <td>6.0</td>\n",
              "      <td>5.0</td>\n",
              "      <td>5.0</td>\n",
              "      <td>4.0</td>\n",
              "      <td>4.0</td>\n",
              "      <td>3.0</td>\n",
              "      <td>5.0</td>\n",
              "      <td>5.0</td>\n",
              "      <td>5.0</td>\n",
              "      <td>3.0</td>\n",
              "      <td>4.0</td>\n",
              "      <td>4.0</td>\n",
              "      <td>4.0</td>\n",
              "      <td>2.0</td>\n",
              "      <td>5.0</td>\n",
              "      <td>2.0</td>\n",
              "      <td>4.0</td>\n",
              "      <td>1.0</td>\n",
              "      <td>3.0</td>\n",
              "      <td>3</td>\n",
              "      <td>4.0</td>\n",
              "      <td>3.0</td>\n",
              "      <td>5.0</td>\n",
              "    </tr>\n",
              "    <tr>\n",
              "      <th>4</th>\n",
              "      <td>2.0</td>\n",
              "      <td>3.0</td>\n",
              "      <td>3.0</td>\n",
              "      <td>4.0</td>\n",
              "      <td>5.0</td>\n",
              "      <td>4.0</td>\n",
              "      <td>4.0</td>\n",
              "      <td>5.0</td>\n",
              "      <td>3.0</td>\n",
              "      <td>2.0</td>\n",
              "      <td>2.0</td>\n",
              "      <td>2.0</td>\n",
              "      <td>5.0</td>\n",
              "      <td>4.0</td>\n",
              "      <td>5.0</td>\n",
              "      <td>2.0</td>\n",
              "      <td>3.0</td>\n",
              "      <td>4.0</td>\n",
              "      <td>4.0</td>\n",
              "      <td>3.0</td>\n",
              "      <td>3.0</td>\n",
              "      <td>3</td>\n",
              "      <td>4.0</td>\n",
              "      <td>3.0</td>\n",
              "      <td>3.0</td>\n",
              "    </tr>\n",
              "    <tr>\n",
              "      <th>...</th>\n",
              "      <td>...</td>\n",
              "      <td>...</td>\n",
              "      <td>...</td>\n",
              "      <td>...</td>\n",
              "      <td>...</td>\n",
              "      <td>...</td>\n",
              "      <td>...</td>\n",
              "      <td>...</td>\n",
              "      <td>...</td>\n",
              "      <td>...</td>\n",
              "      <td>...</td>\n",
              "      <td>...</td>\n",
              "      <td>...</td>\n",
              "      <td>...</td>\n",
              "      <td>...</td>\n",
              "      <td>...</td>\n",
              "      <td>...</td>\n",
              "      <td>...</td>\n",
              "      <td>...</td>\n",
              "      <td>...</td>\n",
              "      <td>...</td>\n",
              "      <td>...</td>\n",
              "      <td>...</td>\n",
              "      <td>...</td>\n",
              "      <td>...</td>\n",
              "    </tr>\n",
              "    <tr>\n",
              "      <th>2793</th>\n",
              "      <td>3.0</td>\n",
              "      <td>4.0</td>\n",
              "      <td>3.0</td>\n",
              "      <td>1.0</td>\n",
              "      <td>3.0</td>\n",
              "      <td>5.0</td>\n",
              "      <td>4.0</td>\n",
              "      <td>5.0</td>\n",
              "      <td>3.0</td>\n",
              "      <td>4.0</td>\n",
              "      <td>3.0</td>\n",
              "      <td>5.0</td>\n",
              "      <td>2.0</td>\n",
              "      <td>3.0</td>\n",
              "      <td>1.0</td>\n",
              "      <td>5.0</td>\n",
              "      <td>6.0</td>\n",
              "      <td>5.0</td>\n",
              "      <td>5.0</td>\n",
              "      <td>6.0</td>\n",
              "      <td>6.0</td>\n",
              "      <td>1</td>\n",
              "      <td>4.0</td>\n",
              "      <td>5.0</td>\n",
              "      <td>2.0</td>\n",
              "    </tr>\n",
              "    <tr>\n",
              "      <th>2794</th>\n",
              "      <td>5.0</td>\n",
              "      <td>5.0</td>\n",
              "      <td>5.0</td>\n",
              "      <td>5.0</td>\n",
              "      <td>3.0</td>\n",
              "      <td>5.0</td>\n",
              "      <td>4.0</td>\n",
              "      <td>2.0</td>\n",
              "      <td>3.0</td>\n",
              "      <td>5.0</td>\n",
              "      <td>3.0</td>\n",
              "      <td>5.0</td>\n",
              "      <td>5.0</td>\n",
              "      <td>6.0</td>\n",
              "      <td>5.0</td>\n",
              "      <td>4.0</td>\n",
              "      <td>5.0</td>\n",
              "      <td>3.0</td>\n",
              "      <td>5.0</td>\n",
              "      <td>2.0</td>\n",
              "      <td>6.0</td>\n",
              "      <td>1</td>\n",
              "      <td>5.0</td>\n",
              "      <td>6.0</td>\n",
              "      <td>2.0</td>\n",
              "    </tr>\n",
              "    <tr>\n",
              "      <th>2797</th>\n",
              "      <td>2.0</td>\n",
              "      <td>3.0</td>\n",
              "      <td>5.0</td>\n",
              "      <td>2.0</td>\n",
              "      <td>5.0</td>\n",
              "      <td>5.0</td>\n",
              "      <td>5.0</td>\n",
              "      <td>5.0</td>\n",
              "      <td>1.0</td>\n",
              "      <td>1.0</td>\n",
              "      <td>2.0</td>\n",
              "      <td>2.0</td>\n",
              "      <td>6.0</td>\n",
              "      <td>3.0</td>\n",
              "      <td>6.0</td>\n",
              "      <td>3.0</td>\n",
              "      <td>4.0</td>\n",
              "      <td>3.0</td>\n",
              "      <td>3.0</td>\n",
              "      <td>1.0</td>\n",
              "      <td>5.0</td>\n",
              "      <td>1</td>\n",
              "      <td>6.0</td>\n",
              "      <td>4.0</td>\n",
              "      <td>3.0</td>\n",
              "    </tr>\n",
              "    <tr>\n",
              "      <th>2798</th>\n",
              "      <td>5.0</td>\n",
              "      <td>2.0</td>\n",
              "      <td>2.0</td>\n",
              "      <td>4.0</td>\n",
              "      <td>4.0</td>\n",
              "      <td>5.0</td>\n",
              "      <td>5.0</td>\n",
              "      <td>5.0</td>\n",
              "      <td>2.0</td>\n",
              "      <td>6.0</td>\n",
              "      <td>2.0</td>\n",
              "      <td>2.0</td>\n",
              "      <td>4.0</td>\n",
              "      <td>5.0</td>\n",
              "      <td>4.0</td>\n",
              "      <td>5.0</td>\n",
              "      <td>5.0</td>\n",
              "      <td>6.0</td>\n",
              "      <td>4.0</td>\n",
              "      <td>1.0</td>\n",
              "      <td>5.0</td>\n",
              "      <td>2</td>\n",
              "      <td>5.0</td>\n",
              "      <td>5.0</td>\n",
              "      <td>1.0</td>\n",
              "    </tr>\n",
              "    <tr>\n",
              "      <th>2799</th>\n",
              "      <td>2.0</td>\n",
              "      <td>3.0</td>\n",
              "      <td>1.0</td>\n",
              "      <td>4.0</td>\n",
              "      <td>2.0</td>\n",
              "      <td>5.0</td>\n",
              "      <td>5.0</td>\n",
              "      <td>3.0</td>\n",
              "      <td>3.0</td>\n",
              "      <td>3.0</td>\n",
              "      <td>3.0</td>\n",
              "      <td>3.0</td>\n",
              "      <td>1.0</td>\n",
              "      <td>2.0</td>\n",
              "      <td>2.0</td>\n",
              "      <td>1.0</td>\n",
              "      <td>2.0</td>\n",
              "      <td>2.0</td>\n",
              "      <td>1.0</td>\n",
              "      <td>1.0</td>\n",
              "      <td>3.0</td>\n",
              "      <td>1</td>\n",
              "      <td>3.0</td>\n",
              "      <td>5.0</td>\n",
              "      <td>1.0</td>\n",
              "    </tr>\n",
              "  </tbody>\n",
              "</table>\n",
              "<p>2436 rows × 25 columns</p>\n",
              "</div>"
            ],
            "text/plain": [
              "       A1   A2   A3   A4   A5   C1   C2  ...   N4   N5   O1  O2   O3   O4   O5\n",
              "0     2.0  4.0  3.0  4.0  4.0  2.0  3.0  ...  2.0  3.0  3.0   6  3.0  4.0  3.0\n",
              "1     2.0  4.0  5.0  2.0  5.0  5.0  4.0  ...  5.0  5.0  4.0   2  4.0  3.0  3.0\n",
              "2     5.0  4.0  5.0  4.0  4.0  4.0  5.0  ...  2.0  3.0  4.0   2  5.0  5.0  2.0\n",
              "3     4.0  4.0  6.0  5.0  5.0  4.0  4.0  ...  4.0  1.0  3.0   3  4.0  3.0  5.0\n",
              "4     2.0  3.0  3.0  4.0  5.0  4.0  4.0  ...  4.0  3.0  3.0   3  4.0  3.0  3.0\n",
              "...   ...  ...  ...  ...  ...  ...  ...  ...  ...  ...  ...  ..  ...  ...  ...\n",
              "2793  3.0  4.0  3.0  1.0  3.0  5.0  4.0  ...  5.0  6.0  6.0   1  4.0  5.0  2.0\n",
              "2794  5.0  5.0  5.0  5.0  3.0  5.0  4.0  ...  5.0  2.0  6.0   1  5.0  6.0  2.0\n",
              "2797  2.0  3.0  5.0  2.0  5.0  5.0  5.0  ...  3.0  1.0  5.0   1  6.0  4.0  3.0\n",
              "2798  5.0  2.0  2.0  4.0  4.0  5.0  5.0  ...  4.0  1.0  5.0   2  5.0  5.0  1.0\n",
              "2799  2.0  3.0  1.0  4.0  2.0  5.0  5.0  ...  1.0  1.0  3.0   1  3.0  5.0  1.0\n",
              "\n",
              "[2436 rows x 25 columns]"
            ]
          },
          "metadata": {
            "tags": []
          },
          "execution_count": 15
        }
      ]
    },
    {
      "cell_type": "code",
      "metadata": {
        "id": "Y9MAieLB0gut",
        "colab": {
          "base_uri": "https://localhost:8080/"
        },
        "outputId": "601afa2c-4ed2-4d21-c718-fc40abe320d8"
      },
      "source": [
        "BFI_data_dropped.shape"
      ],
      "execution_count": 16,
      "outputs": [
        {
          "output_type": "execute_result",
          "data": {
            "text/plain": [
              "(2436, 25)"
            ]
          },
          "metadata": {
            "tags": []
          },
          "execution_count": 16
        }
      ]
    },
    {
      "cell_type": "markdown",
      "metadata": {
        "id": "LxN330151Gfw"
      },
      "source": [
        "Bartlett's test"
      ]
    },
    {
      "cell_type": "markdown",
      "metadata": {
        "id": "7nBJamNtfDQa"
      },
      "source": [
        "p value เข้าใกล้ 0 ดี"
      ]
    },
    {
      "cell_type": "code",
      "metadata": {
        "id": "qJ9kmvdD1FB0",
        "colab": {
          "base_uri": "https://localhost:8080/"
        },
        "outputId": "3061a41d-bb54-4e7a-8e2c-056c86e8fc33"
      },
      "source": [
        "from factor_analyzer.factor_analyzer import calculate_bartlett_sphericity\n",
        "\n",
        "chi_square_value,p_value = calculate_bartlett_sphericity(BFI_data_dropped)\n",
        "\n",
        "chi_square_value, p_value"
      ],
      "execution_count": 17,
      "outputs": [
        {
          "output_type": "execute_result",
          "data": {
            "text/plain": [
              "(18170.966350869257, 0.0)"
            ]
          },
          "metadata": {
            "tags": []
          },
          "execution_count": 17
        }
      ]
    },
    {
      "cell_type": "markdown",
      "metadata": {
        "id": "5lx6LNpa2OZc"
      },
      "source": [
        "In this Bartlett ’s test, the p-value is 0. The test was statistically significant, indicating that the observed correlation matrix is not an identity matrix."
      ]
    },
    {
      "cell_type": "markdown",
      "metadata": {
        "id": "dxcHbGXP2Sog"
      },
      "source": [
        "**Kaiser-Meyer-Olkin (KMO) Test**"
      ]
    },
    {
      "cell_type": "markdown",
      "metadata": {
        "id": "3bkNDLbr3ALd"
      },
      "source": [
        "ถ้าค่าKMO model มีค่ามากกว่า 0.6 แปลว่าข้อมูลเหมาะสมที่นำไปทำ factor Analysis\n"
      ]
    },
    {
      "cell_type": "code",
      "metadata": {
        "id": "s_GyklkN2WBq",
        "outputId": "7dbfc2db-ee7c-4a89-c56a-a33ba646a300",
        "colab": {
          "base_uri": "https://localhost:8080/"
        }
      },
      "source": [
        "from factor_analyzer.factor_analyzer import calculate_kmo\n",
        "\n",
        "kmo_all,kmo_model=calculate_kmo(BFI_data_dropped)\n",
        "\n",
        "kmo_model"
      ],
      "execution_count": 18,
      "outputs": [
        {
          "output_type": "execute_result",
          "data": {
            "text/plain": [
              "0.8485397221949222"
            ]
          },
          "metadata": {
            "tags": []
          },
          "execution_count": 18
        }
      ]
    },
    {
      "cell_type": "code",
      "metadata": {
        "id": "zd535HWj2d49",
        "colab": {
          "base_uri": "https://localhost:8080/"
        },
        "outputId": "a0e95c3d-77e9-43f0-c02c-a49f7f44c00a"
      },
      "source": [
        "kmo_model"
      ],
      "execution_count": 19,
      "outputs": [
        {
          "output_type": "execute_result",
          "data": {
            "text/plain": [
              "0.8485397221949222"
            ]
          },
          "metadata": {
            "tags": []
          },
          "execution_count": 19
        }
      ]
    },
    {
      "cell_type": "markdown",
      "metadata": {
        "id": "n2g-Ia3q4x99"
      },
      "source": [
        "## factor analysis"
      ]
    },
    {
      "cell_type": "markdown",
      "metadata": {
        "id": "8W-RzRutehoy"
      },
      "source": [
        "### Import"
      ]
    },
    {
      "cell_type": "code",
      "metadata": {
        "id": "bfFU8xWVeiZs"
      },
      "source": [
        "from factor_analyzer import FactorAnalyzer"
      ],
      "execution_count": 20,
      "outputs": []
    },
    {
      "cell_type": "markdown",
      "metadata": {
        "id": "3M2NTAP0epni"
      },
      "source": [
        "Define"
      ]
    },
    {
      "cell_type": "code",
      "metadata": {
        "id": "J693yhSOepLg"
      },
      "source": [
        "fa = FactorAnalyzer(n_factors=20)"
      ],
      "execution_count": 21,
      "outputs": []
    },
    {
      "cell_type": "markdown",
      "metadata": {
        "id": "35sn4DAveut6"
      },
      "source": [
        "## Fit-transform"
      ]
    },
    {
      "cell_type": "code",
      "metadata": {
        "id": "cj2-lcziexnI"
      },
      "source": [
        "data_fa = fa.fit_transform(BFI_data_dropped)"
      ],
      "execution_count": 22,
      "outputs": []
    },
    {
      "cell_type": "code",
      "metadata": {
        "id": "5-isu_XAf-V0",
        "outputId": "d35985bb-0933-4faf-d89e-d7be5e4e265a",
        "colab": {
          "base_uri": "https://localhost:8080/"
        }
      },
      "source": [
        "data_fa.shape"
      ],
      "execution_count": 23,
      "outputs": [
        {
          "output_type": "execute_result",
          "data": {
            "text/plain": [
              "(2436, 20)"
            ]
          },
          "metadata": {
            "tags": []
          },
          "execution_count": 23
        }
      ]
    },
    {
      "cell_type": "markdown",
      "metadata": {
        "id": "GJyjbva4gt9k"
      },
      "source": [
        "## วิธีตัดสินว่าเราจะลดเหลือกี่ dimension (มี factors ทั้งหมดกี่ตัว)"
      ]
    },
    {
      "cell_type": "code",
      "metadata": {
        "id": "2lz8SzLSuQ8a"
      },
      "source": [
        "ev,v = fa.get_eigenvalues()"
      ],
      "execution_count": 24,
      "outputs": []
    },
    {
      "cell_type": "markdown",
      "metadata": {
        "id": "QI1q5FGmuVb7"
      },
      "source": [
        "### ใช้ eigen values"
      ]
    },
    {
      "cell_type": "code",
      "metadata": {
        "id": "MelmevemuZou",
        "outputId": "cdda048e-f4b1-40cf-cbf1-50ab0ceefa52",
        "colab": {
          "base_uri": "https://localhost:8080/"
        }
      },
      "source": [
        "ev"
      ],
      "execution_count": 25,
      "outputs": [
        {
          "output_type": "execute_result",
          "data": {
            "text/plain": [
              "array([5.13431118, 2.75188667, 2.14270195, 1.85232761, 1.54816285,\n",
              "       1.07358247, 0.83953893, 0.79920618, 0.71898919, 0.68808879,\n",
              "       0.67637336, 0.65179984, 0.62325295, 0.59656284, 0.56309083,\n",
              "       0.54330533, 0.51451752, 0.49450315, 0.48263952, 0.448921  ,\n",
              "       0.42336611, 0.40067145, 0.38780448, 0.38185679, 0.26253902])"
            ]
          },
          "metadata": {
            "tags": []
          },
          "execution_count": 25
        }
      ]
    },
    {
      "cell_type": "markdown",
      "metadata": {
        "id": "2j7Nr47ku8R7"
      },
      "source": [
        "## scree plot"
      ]
    },
    {
      "cell_type": "code",
      "metadata": {
        "id": "NCbCidZ-vB9v",
        "outputId": "d821e737-1eea-4933-f4f2-edca6f0b44cd",
        "colab": {
          "base_uri": "https://localhost:8080/",
          "height": 295
        }
      },
      "source": [
        "# Create scree plot using matplotlib\n",
        "plt.plot(range(1,BFI_data_dropped.shape[1]+1),ev,'bo-')\n",
        "plt.plot([0,BFI_data_dropped.shape[1]+1],[1,1],'r--')\n",
        "plt.title('Scree Plot')\n",
        "plt.xlabel('Factors')\n",
        "plt.ylabel('Eigenvalue')\n",
        "plt.grid()\n",
        "plt.show()"
      ],
      "execution_count": 26,
      "outputs": [
        {
          "output_type": "display_data",
          "data": {
            "image/png": "[encoded data removed]",
            "text/plain": [
              "<Figure size 432x288 with 1 Axes>"
            ]
          },
          "metadata": {
            "tags": [],
            "needs_background": "light"
          }
        }
      ]
    },
    {
      "cell_type": "code",
      "metadata": {
        "id": "Qzb_URyyvFd7",
        "outputId": "60a05a31-168f-4340-d4ac-39625d53f8c1",
        "colab": {
          "base_uri": "https://localhost:8080/"
        }
      },
      "source": [
        "data_fa[:,:6]"
      ],
      "execution_count": 27,
      "outputs": [
        {
          "output_type": "execute_result",
          "data": {
            "text/plain": [
              "array([[-0.89749664, -0.12809669, -1.22649079,  1.08665877,  0.424767  ,\n",
              "         0.03981612],\n",
              "       [ 0.33679355, -0.15018144, -0.04332282, -0.10339331,  0.29665652,\n",
              "        -1.1101972 ],\n",
              "       [-0.24521027,  0.8040996 ,  0.39343378, -0.30106518,  0.82703926,\n",
              "        -0.29820222],\n",
              "       ...,\n",
              "       [ 0.38724621, -0.02183595,  1.196168  , -1.19357193,  0.79669499,\n",
              "        -0.95295099],\n",
              "       [-0.75695977,  0.94984749,  1.24363476, -1.1523021 ,  2.25341329,\n",
              "        -1.02186669],\n",
              "       [-2.35583965, -1.49829858,  0.49436984, -1.64734328,  0.94742314,\n",
              "         0.43462508]])"
            ]
          },
          "metadata": {
            "tags": []
          },
          "execution_count": 27
        }
      ]
    },
    {
      "cell_type": "markdown",
      "metadata": {
        "id": "v-OnqycrvLS4"
      },
      "source": [
        "## รัน Factor Analyzer อีกรอบ ด้วย paremeters จำนวน factor เท่ากับ 6"
      ]
    },
    {
      "cell_type": "code",
      "metadata": {
        "id": "O_qFWYCwvNll"
      },
      "source": [
        "from factor_analyzer import FactorAnalyzer\n",
        "fa2 = FactorAnalyzer(n_factors=6)\n",
        "data_fa = fa2.fit_transform(BFI_data_dropped)"
      ],
      "execution_count": 28,
      "outputs": []
    },
    {
      "cell_type": "code",
      "metadata": {
        "id": "fhdrSKM0vP8D",
        "outputId": "f09eff3a-de9a-4d84-b6b8-aec7987c2efc",
        "colab": {
          "base_uri": "https://localhost:8080/"
        }
      },
      "source": [
        "fa2.loadings_.shape"
      ],
      "execution_count": 29,
      "outputs": [
        {
          "output_type": "execute_result",
          "data": {
            "text/plain": [
              "(25, 6)"
            ]
          },
          "metadata": {
            "tags": []
          },
          "execution_count": 29
        }
      ]
    },
    {
      "cell_type": "markdown",
      "metadata": {
        "id": "pYwkxq-MvWnk"
      },
      "source": [
        "#### Plot factor loadings"
      ]
    },
    {
      "cell_type": "code",
      "metadata": {
        "id": "8W25tXJJva3Y"
      },
      "source": [
        "from matplotlib import pyplot as plt\n",
        "import numpy as np\n",
        "import matplotlib"
      ],
      "execution_count": 30,
      "outputs": []
    },
    {
      "cell_type": "markdown",
      "metadata": {
        "id": "Q1MuGr4YvaVG"
      },
      "source": [
        "# matrix plot\n",
        "confirmatory"
      ]
    },
    {
      "cell_type": "code",
      "metadata": {
        "id": "sWwnyz-XvlxB",
        "outputId": "a3ccbd2b-c62f-4a2a-f626-1dff79a63876",
        "colab": {
          "base_uri": "https://localhost:8080/",
          "height": 881
        }
      },
      "source": [
        "matplotlib.rcParams['figure.figsize']=[15,15]\n",
        "plt.imshow(np.absolute(fa2.loadings_))"
      ],
      "execution_count": 31,
      "outputs": [
        {
          "output_type": "execute_result",
          "data": {
            "text/plain": [
              "<matplotlib.image.AxesImage at 0x7ff19e283f50>"
            ]
          },
          "metadata": {
            "tags": []
          },
          "execution_count": 31
        },
        {
          "output_type": "display_data",
          "data": {
            "image/png": "[encoded data removed]",
            "text/plain": [
              "<Figure size 1080x1080 with 1 Axes>"
            ]
          },
          "metadata": {
            "tags": [],
            "needs_background": "light"
          }
        }
      ]
    },
    {
      "cell_type": "markdown",
      "metadata": {
        "id": "b8z1QQCQvuLd"
      },
      "source": [
        "## กราฟแท่ง\n",
        "Exploratory"
      ]
    },
    {
      "cell_type": "code",
      "metadata": {
        "id": "RQB77V3hvtEF",
        "outputId": "897a01d5-f817-4ab1-c0d9-f7e2b445bfbe",
        "colab": {
          "base_uri": "https://localhost:8080/"
        }
      },
      "source": [
        "BFI_data_dropped.columns"
      ],
      "execution_count": 32,
      "outputs": [
        {
          "output_type": "execute_result",
          "data": {
            "text/plain": [
              "Index(['A1', 'A2', 'A3', 'A4', 'A5', 'C1', 'C2', 'C3', 'C4', 'C5', 'E1', 'E2',\n",
              "       'E3', 'E4', 'E5', 'N1', 'N2', 'N3', 'N4', 'N5', 'O1', 'O2', 'O3', 'O4',\n",
              "       'O5'],\n",
              "      dtype='object')"
            ]
          },
          "metadata": {
            "tags": []
          },
          "execution_count": 32
        }
      ]
    },
    {
      "cell_type": "code",
      "metadata": {
        "id": "w_cYcwhIvzpt",
        "outputId": "60a5a5c5-118f-4a8f-ba8e-7580e5353b13",
        "colab": {
          "base_uri": "https://localhost:8080/",
          "height": 881
        }
      },
      "source": [
        "plt.bar(range(25),np.absolute(fa2.loadings_[:,0]),tick_label=BFI_data_dropped.columns)"
      ],
      "execution_count": 33,
      "outputs": [
        {
          "output_type": "execute_result",
          "data": {
            "text/plain": [
              "<BarContainer object of 25 artists>"
            ]
          },
          "metadata": {
            "tags": []
          },
          "execution_count": 33
        },
        {
          "output_type": "display_data",
          "data": {
            "image/png": "[encoded data removed]",
            "text/plain": [
              "<Figure size 1080x1080 with 1 Axes>"
            ]
          },
          "metadata": {
            "tags": [],
            "needs_background": "light"
          }
        }
      ]
    },
    {
      "cell_type": "markdown",
      "metadata": {
        "id": "8Wn881S_wFCq"
      },
      "source": [
        "# Exam 3\n",
        "\n",
        "ทำ Factor Analysis ข้อมูล Fifa 2018 \n",
        "https://drive.google.com/file/d/1UORRKWMb8GCN455eJE_n9MvBHupnSVwv/view?usp=sharing"
      ]
    },
    {
      "cell_type": "markdown",
      "metadata": {
        "id": "-2BeiXnXwa5y"
      },
      "source": [
        "** Import ข้อมูล**"
      ]
    },
    {
      "cell_type": "code",
      "metadata": {
        "id": "M8fpITcQwlTW",
        "outputId": "944f3d06-843a-41d8-f054-7373ec84049c",
        "colab": {
          "base_uri": "https://localhost:8080/",
          "height": 823
        }
      },
      "source": [
        "exam = pd.read_csv('/content/FIFA 2018 Statistics.csv')\n",
        "exam"
      ],
      "execution_count": 34,
      "outputs": [
        {
          "output_type": "execute_result",
          "data": {
            "text/html": [
              "<div>\n",
              "<style scoped>\n",
              "    .dataframe tbody tr th:only-of-type {\n",
              "        vertical-align: middle;\n",
              "    }\n",
              "\n",
              "    .dataframe tbody tr th {\n",
              "        vertical-align: top;\n",
              "    }\n",
              "\n",
              "    .dataframe thead th {\n",
              "        text-align: right;\n",
              "    }\n",
              "</style>\n",
              "<table border=\"1\" class=\"dataframe\">\n",
              "  <thead>\n",
              "    <tr style=\"text-align: right;\">\n",
              "      <th></th>\n",
              "      <th>Date</th>\n",
              "      <th>Team</th>\n",
              "      <th>Opponent</th>\n",
              "      <th>Goal Scored</th>\n",
              "      <th>Ball Possession %</th>\n",
              "      <th>Attempts</th>\n",
              "      <th>On-Target</th>\n",
              "      <th>Off-Target</th>\n",
              "      <th>Blocked</th>\n",
              "      <th>Corners</th>\n",
              "      <th>Offsides</th>\n",
              "      <th>Free Kicks</th>\n",
              "      <th>Saves</th>\n",
              "      <th>Pass Accuracy %</th>\n",
              "      <th>Passes</th>\n",
              "      <th>Distance Covered (Kms)</th>\n",
              "      <th>Fouls Committed</th>\n",
              "      <th>Yellow Card</th>\n",
              "      <th>Yellow &amp; Red</th>\n",
              "      <th>Red</th>\n",
              "      <th>Man of the Match</th>\n",
              "      <th>1st Goal</th>\n",
              "      <th>Round</th>\n",
              "      <th>PSO</th>\n",
              "      <th>Goals in PSO</th>\n",
              "      <th>Own goals</th>\n",
              "      <th>Own goal Time</th>\n",
              "    </tr>\n",
              "  </thead>\n",
              "  <tbody>\n",
              "    <tr>\n",
              "      <th>0</th>\n",
              "      <td>14-06-2018</td>\n",
              "      <td>Russia</td>\n",
              "      <td>Saudi Arabia</td>\n",
              "      <td>5</td>\n",
              "      <td>40</td>\n",
              "      <td>13</td>\n",
              "      <td>7</td>\n",
              "      <td>3</td>\n",
              "      <td>3</td>\n",
              "      <td>6</td>\n",
              "      <td>3</td>\n",
              "      <td>11</td>\n",
              "      <td>0</td>\n",
              "      <td>78</td>\n",
              "      <td>306</td>\n",
              "      <td>118</td>\n",
              "      <td>22</td>\n",
              "      <td>0</td>\n",
              "      <td>0</td>\n",
              "      <td>0</td>\n",
              "      <td>Yes</td>\n",
              "      <td>12.0</td>\n",
              "      <td>Group Stage</td>\n",
              "      <td>No</td>\n",
              "      <td>0</td>\n",
              "      <td>NaN</td>\n",
              "      <td>NaN</td>\n",
              "    </tr>\n",
              "    <tr>\n",
              "      <th>1</th>\n",
              "      <td>14-06-2018</td>\n",
              "      <td>Saudi Arabia</td>\n",
              "      <td>Russia</td>\n",
              "      <td>0</td>\n",
              "      <td>60</td>\n",
              "      <td>6</td>\n",
              "      <td>0</td>\n",
              "      <td>3</td>\n",
              "      <td>3</td>\n",
              "      <td>2</td>\n",
              "      <td>1</td>\n",
              "      <td>25</td>\n",
              "      <td>2</td>\n",
              "      <td>86</td>\n",
              "      <td>511</td>\n",
              "      <td>105</td>\n",
              "      <td>10</td>\n",
              "      <td>0</td>\n",
              "      <td>0</td>\n",
              "      <td>0</td>\n",
              "      <td>No</td>\n",
              "      <td>NaN</td>\n",
              "      <td>Group Stage</td>\n",
              "      <td>No</td>\n",
              "      <td>0</td>\n",
              "      <td>NaN</td>\n",
              "      <td>NaN</td>\n",
              "    </tr>\n",
              "    <tr>\n",
              "      <th>2</th>\n",
              "      <td>15-06-2018</td>\n",
              "      <td>Egypt</td>\n",
              "      <td>Uruguay</td>\n",
              "      <td>0</td>\n",
              "      <td>43</td>\n",
              "      <td>8</td>\n",
              "      <td>3</td>\n",
              "      <td>3</td>\n",
              "      <td>2</td>\n",
              "      <td>0</td>\n",
              "      <td>1</td>\n",
              "      <td>7</td>\n",
              "      <td>3</td>\n",
              "      <td>78</td>\n",
              "      <td>395</td>\n",
              "      <td>112</td>\n",
              "      <td>12</td>\n",
              "      <td>2</td>\n",
              "      <td>0</td>\n",
              "      <td>0</td>\n",
              "      <td>No</td>\n",
              "      <td>NaN</td>\n",
              "      <td>Group Stage</td>\n",
              "      <td>No</td>\n",
              "      <td>0</td>\n",
              "      <td>NaN</td>\n",
              "      <td>NaN</td>\n",
              "    </tr>\n",
              "    <tr>\n",
              "      <th>3</th>\n",
              "      <td>15-06-2018</td>\n",
              "      <td>Uruguay</td>\n",
              "      <td>Egypt</td>\n",
              "      <td>1</td>\n",
              "      <td>57</td>\n",
              "      <td>14</td>\n",
              "      <td>4</td>\n",
              "      <td>6</td>\n",
              "      <td>4</td>\n",
              "      <td>5</td>\n",
              "      <td>1</td>\n",
              "      <td>13</td>\n",
              "      <td>3</td>\n",
              "      <td>86</td>\n",
              "      <td>589</td>\n",
              "      <td>111</td>\n",
              "      <td>6</td>\n",
              "      <td>0</td>\n",
              "      <td>0</td>\n",
              "      <td>0</td>\n",
              "      <td>Yes</td>\n",
              "      <td>89.0</td>\n",
              "      <td>Group Stage</td>\n",
              "      <td>No</td>\n",
              "      <td>0</td>\n",
              "      <td>NaN</td>\n",
              "      <td>NaN</td>\n",
              "    </tr>\n",
              "    <tr>\n",
              "      <th>4</th>\n",
              "      <td>15-06-2018</td>\n",
              "      <td>Morocco</td>\n",
              "      <td>Iran</td>\n",
              "      <td>0</td>\n",
              "      <td>64</td>\n",
              "      <td>13</td>\n",
              "      <td>3</td>\n",
              "      <td>6</td>\n",
              "      <td>4</td>\n",
              "      <td>5</td>\n",
              "      <td>0</td>\n",
              "      <td>14</td>\n",
              "      <td>2</td>\n",
              "      <td>86</td>\n",
              "      <td>433</td>\n",
              "      <td>101</td>\n",
              "      <td>22</td>\n",
              "      <td>1</td>\n",
              "      <td>0</td>\n",
              "      <td>0</td>\n",
              "      <td>No</td>\n",
              "      <td>NaN</td>\n",
              "      <td>Group Stage</td>\n",
              "      <td>No</td>\n",
              "      <td>0</td>\n",
              "      <td>1.0</td>\n",
              "      <td>90.0</td>\n",
              "    </tr>\n",
              "    <tr>\n",
              "      <th>...</th>\n",
              "      <td>...</td>\n",
              "      <td>...</td>\n",
              "      <td>...</td>\n",
              "      <td>...</td>\n",
              "      <td>...</td>\n",
              "      <td>...</td>\n",
              "      <td>...</td>\n",
              "      <td>...</td>\n",
              "      <td>...</td>\n",
              "      <td>...</td>\n",
              "      <td>...</td>\n",
              "      <td>...</td>\n",
              "      <td>...</td>\n",
              "      <td>...</td>\n",
              "      <td>...</td>\n",
              "      <td>...</td>\n",
              "      <td>...</td>\n",
              "      <td>...</td>\n",
              "      <td>...</td>\n",
              "      <td>...</td>\n",
              "      <td>...</td>\n",
              "      <td>...</td>\n",
              "      <td>...</td>\n",
              "      <td>...</td>\n",
              "      <td>...</td>\n",
              "      <td>...</td>\n",
              "      <td>...</td>\n",
              "    </tr>\n",
              "    <tr>\n",
              "      <th>123</th>\n",
              "      <td>11-07-2018</td>\n",
              "      <td>England</td>\n",
              "      <td>Croatia</td>\n",
              "      <td>1</td>\n",
              "      <td>46</td>\n",
              "      <td>11</td>\n",
              "      <td>1</td>\n",
              "      <td>6</td>\n",
              "      <td>4</td>\n",
              "      <td>4</td>\n",
              "      <td>3</td>\n",
              "      <td>24</td>\n",
              "      <td>5</td>\n",
              "      <td>79</td>\n",
              "      <td>479</td>\n",
              "      <td>148</td>\n",
              "      <td>14</td>\n",
              "      <td>1</td>\n",
              "      <td>0</td>\n",
              "      <td>0</td>\n",
              "      <td>No</td>\n",
              "      <td>5.0</td>\n",
              "      <td>Semi- Finals</td>\n",
              "      <td>No</td>\n",
              "      <td>0</td>\n",
              "      <td>NaN</td>\n",
              "      <td>NaN</td>\n",
              "    </tr>\n",
              "    <tr>\n",
              "      <th>124</th>\n",
              "      <td>14-07-2018</td>\n",
              "      <td>Belgium</td>\n",
              "      <td>England</td>\n",
              "      <td>2</td>\n",
              "      <td>43</td>\n",
              "      <td>12</td>\n",
              "      <td>4</td>\n",
              "      <td>3</td>\n",
              "      <td>5</td>\n",
              "      <td>4</td>\n",
              "      <td>1</td>\n",
              "      <td>5</td>\n",
              "      <td>5</td>\n",
              "      <td>88</td>\n",
              "      <td>510</td>\n",
              "      <td>108</td>\n",
              "      <td>11</td>\n",
              "      <td>1</td>\n",
              "      <td>0</td>\n",
              "      <td>0</td>\n",
              "      <td>Yes</td>\n",
              "      <td>4.0</td>\n",
              "      <td>3rd Place</td>\n",
              "      <td>No</td>\n",
              "      <td>0</td>\n",
              "      <td>NaN</td>\n",
              "      <td>NaN</td>\n",
              "    </tr>\n",
              "    <tr>\n",
              "      <th>125</th>\n",
              "      <td>14-07-2018</td>\n",
              "      <td>England</td>\n",
              "      <td>Belgium</td>\n",
              "      <td>0</td>\n",
              "      <td>57</td>\n",
              "      <td>15</td>\n",
              "      <td>5</td>\n",
              "      <td>7</td>\n",
              "      <td>3</td>\n",
              "      <td>5</td>\n",
              "      <td>0</td>\n",
              "      <td>12</td>\n",
              "      <td>2</td>\n",
              "      <td>92</td>\n",
              "      <td>698</td>\n",
              "      <td>110</td>\n",
              "      <td>5</td>\n",
              "      <td>2</td>\n",
              "      <td>0</td>\n",
              "      <td>0</td>\n",
              "      <td>No</td>\n",
              "      <td>NaN</td>\n",
              "      <td>3rd Place</td>\n",
              "      <td>No</td>\n",
              "      <td>0</td>\n",
              "      <td>NaN</td>\n",
              "      <td>NaN</td>\n",
              "    </tr>\n",
              "    <tr>\n",
              "      <th>126</th>\n",
              "      <td>15-07-2018</td>\n",
              "      <td>France</td>\n",
              "      <td>Croatia</td>\n",
              "      <td>4</td>\n",
              "      <td>39</td>\n",
              "      <td>8</td>\n",
              "      <td>6</td>\n",
              "      <td>1</td>\n",
              "      <td>1</td>\n",
              "      <td>2</td>\n",
              "      <td>1</td>\n",
              "      <td>14</td>\n",
              "      <td>1</td>\n",
              "      <td>75</td>\n",
              "      <td>271</td>\n",
              "      <td>99</td>\n",
              "      <td>14</td>\n",
              "      <td>2</td>\n",
              "      <td>0</td>\n",
              "      <td>0</td>\n",
              "      <td>Yes</td>\n",
              "      <td>18.0</td>\n",
              "      <td>Final</td>\n",
              "      <td>No</td>\n",
              "      <td>0</td>\n",
              "      <td>1.0</td>\n",
              "      <td>18.0</td>\n",
              "    </tr>\n",
              "    <tr>\n",
              "      <th>127</th>\n",
              "      <td>15-07-2018</td>\n",
              "      <td>Croatia</td>\n",
              "      <td>France</td>\n",
              "      <td>2</td>\n",
              "      <td>61</td>\n",
              "      <td>15</td>\n",
              "      <td>3</td>\n",
              "      <td>8</td>\n",
              "      <td>4</td>\n",
              "      <td>6</td>\n",
              "      <td>1</td>\n",
              "      <td>15</td>\n",
              "      <td>3</td>\n",
              "      <td>83</td>\n",
              "      <td>547</td>\n",
              "      <td>100</td>\n",
              "      <td>13</td>\n",
              "      <td>1</td>\n",
              "      <td>0</td>\n",
              "      <td>0</td>\n",
              "      <td>No</td>\n",
              "      <td>28.0</td>\n",
              "      <td>Final</td>\n",
              "      <td>No</td>\n",
              "      <td>0</td>\n",
              "      <td>NaN</td>\n",
              "      <td>NaN</td>\n",
              "    </tr>\n",
              "  </tbody>\n",
              "</table>\n",
              "<p>128 rows × 27 columns</p>\n",
              "</div>"
            ],
            "text/plain": [
              "           Date          Team  ... Own goals  Own goal Time\n",
              "0    14-06-2018        Russia  ...       NaN            NaN\n",
              "1    14-06-2018  Saudi Arabia  ...       NaN            NaN\n",
              "2    15-06-2018         Egypt  ...       NaN            NaN\n",
              "3    15-06-2018       Uruguay  ...       NaN            NaN\n",
              "4    15-06-2018       Morocco  ...       1.0           90.0\n",
              "..          ...           ...  ...       ...            ...\n",
              "123  11-07-2018       England  ...       NaN            NaN\n",
              "124  14-07-2018       Belgium  ...       NaN            NaN\n",
              "125  14-07-2018       England  ...       NaN            NaN\n",
              "126  15-07-2018        France  ...       1.0           18.0\n",
              "127  15-07-2018       Croatia  ...       NaN            NaN\n",
              "\n",
              "[128 rows x 27 columns]"
            ]
          },
          "metadata": {
            "tags": []
          },
          "execution_count": 34
        }
      ]
    },
    {
      "cell_type": "code",
      "metadata": {
        "id": "0ARcd5M7w2mk",
        "outputId": "ca882545-4caa-4442-f018-d1865dcd4684",
        "colab": {
          "base_uri": "https://localhost:8080/"
        }
      },
      "source": [
        "exam.shape"
      ],
      "execution_count": 35,
      "outputs": [
        {
          "output_type": "execute_result",
          "data": {
            "text/plain": [
              "(128, 27)"
            ]
          },
          "metadata": {
            "tags": []
          },
          "execution_count": 35
        }
      ]
    },
    {
      "cell_type": "code",
      "metadata": {
        "id": "q8YoEmt5w4cF",
        "outputId": "ea9db2c1-c858-4b95-e476-5fe080aed6b6",
        "colab": {
          "base_uri": "https://localhost:8080/",
          "height": 465
        }
      },
      "source": [
        "exam_drop = exam.iloc[:,3:20]\n",
        "exam_drop"
      ],
      "execution_count": 36,
      "outputs": [
        {
          "output_type": "execute_result",
          "data": {
            "text/html": [
              "<div>\n",
              "<style scoped>\n",
              "    .dataframe tbody tr th:only-of-type {\n",
              "        vertical-align: middle;\n",
              "    }\n",
              "\n",
              "    .dataframe tbody tr th {\n",
              "        vertical-align: top;\n",
              "    }\n",
              "\n",
              "    .dataframe thead th {\n",
              "        text-align: right;\n",
              "    }\n",
              "</style>\n",
              "<table border=\"1\" class=\"dataframe\">\n",
              "  <thead>\n",
              "    <tr style=\"text-align: right;\">\n",
              "      <th></th>\n",
              "      <th>Goal Scored</th>\n",
              "      <th>Ball Possession %</th>\n",
              "      <th>Attempts</th>\n",
              "      <th>On-Target</th>\n",
              "      <th>Off-Target</th>\n",
              "      <th>Blocked</th>\n",
              "      <th>Corners</th>\n",
              "      <th>Offsides</th>\n",
              "      <th>Free Kicks</th>\n",
              "      <th>Saves</th>\n",
              "      <th>Pass Accuracy %</th>\n",
              "      <th>Passes</th>\n",
              "      <th>Distance Covered (Kms)</th>\n",
              "      <th>Fouls Committed</th>\n",
              "      <th>Yellow Card</th>\n",
              "      <th>Yellow &amp; Red</th>\n",
              "      <th>Red</th>\n",
              "    </tr>\n",
              "  </thead>\n",
              "  <tbody>\n",
              "    <tr>\n",
              "      <th>0</th>\n",
              "      <td>5</td>\n",
              "      <td>40</td>\n",
              "      <td>13</td>\n",
              "      <td>7</td>\n",
              "      <td>3</td>\n",
              "      <td>3</td>\n",
              "      <td>6</td>\n",
              "      <td>3</td>\n",
              "      <td>11</td>\n",
              "      <td>0</td>\n",
              "      <td>78</td>\n",
              "      <td>306</td>\n",
              "      <td>118</td>\n",
              "      <td>22</td>\n",
              "      <td>0</td>\n",
              "      <td>0</td>\n",
              "      <td>0</td>\n",
              "    </tr>\n",
              "    <tr>\n",
              "      <th>1</th>\n",
              "      <td>0</td>\n",
              "      <td>60</td>\n",
              "      <td>6</td>\n",
              "      <td>0</td>\n",
              "      <td>3</td>\n",
              "      <td>3</td>\n",
              "      <td>2</td>\n",
              "      <td>1</td>\n",
              "      <td>25</td>\n",
              "      <td>2</td>\n",
              "      <td>86</td>\n",
              "      <td>511</td>\n",
              "      <td>105</td>\n",
              "      <td>10</td>\n",
              "      <td>0</td>\n",
              "      <td>0</td>\n",
              "      <td>0</td>\n",
              "    </tr>\n",
              "    <tr>\n",
              "      <th>2</th>\n",
              "      <td>0</td>\n",
              "      <td>43</td>\n",
              "      <td>8</td>\n",
              "      <td>3</td>\n",
              "      <td>3</td>\n",
              "      <td>2</td>\n",
              "      <td>0</td>\n",
              "      <td>1</td>\n",
              "      <td>7</td>\n",
              "      <td>3</td>\n",
              "      <td>78</td>\n",
              "      <td>395</td>\n",
              "      <td>112</td>\n",
              "      <td>12</td>\n",
              "      <td>2</td>\n",
              "      <td>0</td>\n",
              "      <td>0</td>\n",
              "    </tr>\n",
              "    <tr>\n",
              "      <th>3</th>\n",
              "      <td>1</td>\n",
              "      <td>57</td>\n",
              "      <td>14</td>\n",
              "      <td>4</td>\n",
              "      <td>6</td>\n",
              "      <td>4</td>\n",
              "      <td>5</td>\n",
              "      <td>1</td>\n",
              "      <td>13</td>\n",
              "      <td>3</td>\n",
              "      <td>86</td>\n",
              "      <td>589</td>\n",
              "      <td>111</td>\n",
              "      <td>6</td>\n",
              "      <td>0</td>\n",
              "      <td>0</td>\n",
              "      <td>0</td>\n",
              "    </tr>\n",
              "    <tr>\n",
              "      <th>4</th>\n",
              "      <td>0</td>\n",
              "      <td>64</td>\n",
              "      <td>13</td>\n",
              "      <td>3</td>\n",
              "      <td>6</td>\n",
              "      <td>4</td>\n",
              "      <td>5</td>\n",
              "      <td>0</td>\n",
              "      <td>14</td>\n",
              "      <td>2</td>\n",
              "      <td>86</td>\n",
              "      <td>433</td>\n",
              "      <td>101</td>\n",
              "      <td>22</td>\n",
              "      <td>1</td>\n",
              "      <td>0</td>\n",
              "      <td>0</td>\n",
              "    </tr>\n",
              "    <tr>\n",
              "      <th>...</th>\n",
              "      <td>...</td>\n",
              "      <td>...</td>\n",
              "      <td>...</td>\n",
              "      <td>...</td>\n",
              "      <td>...</td>\n",
              "      <td>...</td>\n",
              "      <td>...</td>\n",
              "      <td>...</td>\n",
              "      <td>...</td>\n",
              "      <td>...</td>\n",
              "      <td>...</td>\n",
              "      <td>...</td>\n",
              "      <td>...</td>\n",
              "      <td>...</td>\n",
              "      <td>...</td>\n",
              "      <td>...</td>\n",
              "      <td>...</td>\n",
              "    </tr>\n",
              "    <tr>\n",
              "      <th>123</th>\n",
              "      <td>1</td>\n",
              "      <td>46</td>\n",
              "      <td>11</td>\n",
              "      <td>1</td>\n",
              "      <td>6</td>\n",
              "      <td>4</td>\n",
              "      <td>4</td>\n",
              "      <td>3</td>\n",
              "      <td>24</td>\n",
              "      <td>5</td>\n",
              "      <td>79</td>\n",
              "      <td>479</td>\n",
              "      <td>148</td>\n",
              "      <td>14</td>\n",
              "      <td>1</td>\n",
              "      <td>0</td>\n",
              "      <td>0</td>\n",
              "    </tr>\n",
              "    <tr>\n",
              "      <th>124</th>\n",
              "      <td>2</td>\n",
              "      <td>43</td>\n",
              "      <td>12</td>\n",
              "      <td>4</td>\n",
              "      <td>3</td>\n",
              "      <td>5</td>\n",
              "      <td>4</td>\n",
              "      <td>1</td>\n",
              "      <td>5</td>\n",
              "      <td>5</td>\n",
              "      <td>88</td>\n",
              "      <td>510</td>\n",
              "      <td>108</td>\n",
              "      <td>11</td>\n",
              "      <td>1</td>\n",
              "      <td>0</td>\n",
              "      <td>0</td>\n",
              "    </tr>\n",
              "    <tr>\n",
              "      <th>125</th>\n",
              "      <td>0</td>\n",
              "      <td>57</td>\n",
              "      <td>15</td>\n",
              "      <td>5</td>\n",
              "      <td>7</td>\n",
              "      <td>3</td>\n",
              "      <td>5</td>\n",
              "      <td>0</td>\n",
              "      <td>12</td>\n",
              "      <td>2</td>\n",
              "      <td>92</td>\n",
              "      <td>698</td>\n",
              "      <td>110</td>\n",
              "      <td>5</td>\n",
              "      <td>2</td>\n",
              "      <td>0</td>\n",
              "      <td>0</td>\n",
              "    </tr>\n",
              "    <tr>\n",
              "      <th>126</th>\n",
              "      <td>4</td>\n",
              "      <td>39</td>\n",
              "      <td>8</td>\n",
              "      <td>6</td>\n",
              "      <td>1</td>\n",
              "      <td>1</td>\n",
              "      <td>2</td>\n",
              "      <td>1</td>\n",
              "      <td>14</td>\n",
              "      <td>1</td>\n",
              "      <td>75</td>\n",
              "      <td>271</td>\n",
              "      <td>99</td>\n",
              "      <td>14</td>\n",
              "      <td>2</td>\n",
              "      <td>0</td>\n",
              "      <td>0</td>\n",
              "    </tr>\n",
              "    <tr>\n",
              "      <th>127</th>\n",
              "      <td>2</td>\n",
              "      <td>61</td>\n",
              "      <td>15</td>\n",
              "      <td>3</td>\n",
              "      <td>8</td>\n",
              "      <td>4</td>\n",
              "      <td>6</td>\n",
              "      <td>1</td>\n",
              "      <td>15</td>\n",
              "      <td>3</td>\n",
              "      <td>83</td>\n",
              "      <td>547</td>\n",
              "      <td>100</td>\n",
              "      <td>13</td>\n",
              "      <td>1</td>\n",
              "      <td>0</td>\n",
              "      <td>0</td>\n",
              "    </tr>\n",
              "  </tbody>\n",
              "</table>\n",
              "<p>128 rows × 17 columns</p>\n",
              "</div>"
            ],
            "text/plain": [
              "     Goal Scored  Ball Possession %  Attempts  ...  Yellow Card  Yellow & Red  Red\n",
              "0              5                 40        13  ...            0             0    0\n",
              "1              0                 60         6  ...            0             0    0\n",
              "2              0                 43         8  ...            2             0    0\n",
              "3              1                 57        14  ...            0             0    0\n",
              "4              0                 64        13  ...            1             0    0\n",
              "..           ...                ...       ...  ...          ...           ...  ...\n",
              "123            1                 46        11  ...            1             0    0\n",
              "124            2                 43        12  ...            1             0    0\n",
              "125            0                 57        15  ...            2             0    0\n",
              "126            4                 39         8  ...            2             0    0\n",
              "127            2                 61        15  ...            1             0    0\n",
              "\n",
              "[128 rows x 17 columns]"
            ]
          },
          "metadata": {
            "tags": []
          },
          "execution_count": 36
        }
      ]
    },
    {
      "cell_type": "markdown",
      "metadata": {
        "id": "uC5pZjTxw63y"
      },
      "source": [
        "ขนาดของข้อมูล"
      ]
    },
    {
      "cell_type": "code",
      "metadata": {
        "id": "r3XSbeDsw_2_",
        "outputId": "7ce1b9ae-3a71-4700-fc80-383c63b3ff14",
        "colab": {
          "base_uri": "https://localhost:8080/"
        }
      },
      "source": [
        "exam_drop.shape"
      ],
      "execution_count": 37,
      "outputs": [
        {
          "output_type": "execute_result",
          "data": {
            "text/plain": [
              "(128, 17)"
            ]
          },
          "metadata": {
            "tags": []
          },
          "execution_count": 37
        }
      ]
    },
    {
      "cell_type": "markdown",
      "metadata": {
        "id": "TfCXOI_ixCpc"
      },
      "source": [
        "***\n",
        "**ทำการใช้ Bartlett’s test**\n",
        "\n",
        "โดยถ้าค่า p value เข้าใกล้ 0 ถึงว่าดี"
      ]
    },
    {
      "cell_type": "code",
      "metadata": {
        "id": "JXA8G--HxCQ_",
        "outputId": "266a2dc5-8ec2-41c1-e8e0-4f09a7420fa5",
        "colab": {
          "base_uri": "https://localhost:8080/"
        }
      },
      "source": [
        "from factor_analyzer.factor_analyzer import calculate_bartlett_sphericity\n",
        "\n",
        "chi_square_value,p_value = calculate_bartlett_sphericity(exam_drop)\n",
        "\n",
        "chi_square_value, p_value"
      ],
      "execution_count": 38,
      "outputs": [
        {
          "output_type": "execute_result",
          "data": {
            "text/plain": [
              "(1299.3697851171414, 2.7135801604659165e-189)"
            ]
          },
          "metadata": {
            "tags": []
          },
          "execution_count": 38
        }
      ]
    },
    {
      "cell_type": "markdown",
      "metadata": {
        "id": "5GwmzmZ8xG1B"
      },
      "source": [
        " output \n",
        " ค่า P-value มีค่า 2.71 x 10^-189 ซึ่งมีค่าเข้าใกล้ 0 มาก"
      ]
    },
    {
      "cell_type": "code",
      "metadata": {
        "id": "9R1NHM7pxLk_",
        "outputId": "0d644b1c-d4a4-4349-e908-7bad186c8543",
        "colab": {
          "base_uri": "https://localhost:8080/"
        }
      },
      "source": [
        "from factor_analyzer.factor_analyzer import calculate_kmo\n",
        "\n",
        "kmo_all,kmo_model=calculate_kmo(exam_drop)\n",
        "\n",
        "kmo_model"
      ],
      "execution_count": 39,
      "outputs": [
        {
          "output_type": "execute_result",
          "data": {
            "text/plain": [
              "0.5594556344508267"
            ]
          },
          "metadata": {
            "tags": []
          },
          "execution_count": 39
        }
      ]
    },
    {
      "cell_type": "markdown",
      "metadata": {
        "id": "BGKdw737xNw6"
      },
      "source": [
        "**แปลผลจาก Output ได้ว่า**\n",
        "\n",
        "**ค่า KMO จาก model มีค่าประมาณ 0.56 หรือประมาณได้ 0.6 แปลว่าเหมาะสมที่นำไปทำ Factor Analysis**"
      ]
    },
    {
      "cell_type": "markdown",
      "metadata": {
        "id": "nvuxM6mpUiLW"
      },
      "source": [
        " Factor Analysis"
      ]
    },
    {
      "cell_type": "code",
      "metadata": {
        "id": "qmdL__FVUhsw"
      },
      "source": [
        "# IMPORT\n",
        "from factor_analyzer import FactorAnalyzer"
      ],
      "execution_count": 40,
      "outputs": []
    },
    {
      "cell_type": "code",
      "metadata": {
        "id": "o4qJBmBgUta2"
      },
      "source": [
        "# DEFINE กำหนดขนาดที่เลือก\n",
        "ex_fa = FactorAnalyzer(n_factors=10)"
      ],
      "execution_count": 41,
      "outputs": []
    },
    {
      "cell_type": "code",
      "metadata": {
        "id": "jJi3XvIpUv6t"
      },
      "source": [
        "# Fit-transform\n",
        "data_ex_fa = ex_fa.fit_transform(exam_drop)"
      ],
      "execution_count": 42,
      "outputs": []
    },
    {
      "cell_type": "code",
      "metadata": {
        "id": "Ks8EWMvFUxTG",
        "outputId": "ca063445-0c60-4e97-f055-7ba5de90626a",
        "colab": {
          "base_uri": "https://localhost:8080/"
        }
      },
      "source": [
        "# ตรวจสอบ ขนาดข้อมูล\n",
        "data_ex_fa.shape"
      ],
      "execution_count": 43,
      "outputs": [
        {
          "output_type": "execute_result",
          "data": {
            "text/plain": [
              "(128, 10)"
            ]
          },
          "metadata": {
            "tags": []
          },
          "execution_count": 43
        }
      ]
    },
    {
      "cell_type": "markdown",
      "metadata": {
        "id": "UmnM0bwzVEui"
      },
      "source": [
        "ลด dimension โดยการใช้ eigen values"
      ]
    },
    {
      "cell_type": "code",
      "metadata": {
        "id": "DJq-5hnHVLQd",
        "outputId": "7b1f25dd-b2aa-45d1-8e15-dad8155296e1",
        "colab": {
          "base_uri": "https://localhost:8080/"
        }
      },
      "source": [
        "ev,v = ex_fa.get_eigenvalues()\n",
        "ev"
      ],
      "execution_count": 44,
      "outputs": [
        {
          "output_type": "execute_result",
          "data": {
            "text/plain": [
              "array([4.93533676, 1.66110682, 1.45898601, 1.31857945, 1.27991548,\n",
              "       1.1607222 , 0.89822418, 0.80740568, 0.78874612, 0.65948826,\n",
              "       0.56563441, 0.48116939, 0.38549929, 0.29659929, 0.22859409,\n",
              "       0.06848785, 0.00550471])"
            ]
          },
          "metadata": {
            "tags": []
          },
          "execution_count": 44
        }
      ]
    },
    {
      "cell_type": "markdown",
      "metadata": {
        "id": "WWnUNHGFVQzl"
      },
      "source": [
        "scree plot"
      ]
    },
    {
      "cell_type": "code",
      "metadata": {
        "id": "pfygqvn1VSZd",
        "outputId": "fdf6bb62-8936-42b9-f670-9882b2588fa7",
        "colab": {
          "base_uri": "https://localhost:8080/",
          "height": 893
        }
      },
      "source": [
        "plt.plot(range(1,exam_drop.shape[1]+1),ev,'bo-')\n",
        "plt.plot([0,exam_drop.shape[1]+1],[1,1],'r--')\n",
        "plt.title('Scree Plot Fifa with 17 factors')\n",
        "plt.xlabel('Factors')\n",
        "plt.ylabel('Eigenvalue')\n",
        "plt.grid()\n",
        "plt.show()"
      ],
      "execution_count": 45,
      "outputs": [
        {
          "output_type": "display_data",
          "data": {
            "image/png": "[encoded data removed]",
            "text/plain": [
              "<Figure size 1080x1080 with 1 Axes>"
            ]
          },
          "metadata": {
            "tags": [],
            "needs_background": "light"
          }
        }
      ]
    },
    {
      "cell_type": "markdown",
      "metadata": {
        "id": "4BheFpnxVXvm"
      },
      "source": [
        "มีตัวที่มีค่า factor มากกว่า 1 อยู่ 6 ตัว*\n"
      ]
    },
    {
      "cell_type": "code",
      "metadata": {
        "id": "gvJ2SuNSVbzJ",
        "outputId": "e9ed2552-4504-41fe-e8ff-b39a90db9561",
        "colab": {
          "base_uri": "https://localhost:8080/"
        }
      },
      "source": [
        "data_ex_fa[:,:6]"
      ],
      "execution_count": 46,
      "outputs": [
        {
          "output_type": "execute_result",
          "data": {
            "text/plain": [
              "array([[-1.14061135e+00,  1.05033795e+00,  2.79854548e+00,\n",
              "         3.57574909e-01, -5.95142053e-02, -7.48334422e-02],\n",
              "       [ 5.33831275e-01, -1.78150172e-01, -1.10088640e+00,\n",
              "         1.81435399e-02, -8.36944122e-01, -7.31531737e-01],\n",
              "       [-7.29379757e-01,  3.96402610e-01, -7.02153336e-01,\n",
              "        -2.77221856e-01,  1.34345185e-01, -5.61356581e-01],\n",
              "       [ 7.08580262e-01,  3.36178776e-01, -3.31529296e-01,\n",
              "        -2.60518621e-01, -1.38667316e+00,  1.34916247e-01],\n",
              "       [ 3.25530747e-01, -3.71841643e-01, -4.14431500e-01,\n",
              "         3.27492951e-01,  2.50367514e-01,  2.57255843e-01],\n",
              "       [-1.34130201e+00, -5.34561966e-01,  2.52429425e-01,\n",
              "        -5.22236067e-01,  1.05852606e+00, -1.07428692e+00],\n",
              "       [-5.46867933e-01, -4.92844211e-01,  9.46711066e-01,\n",
              "        -3.59877177e-01, -1.85390874e-01, -3.25465510e-01],\n",
              "       [ 1.67488724e+00, -4.32704619e-01,  7.61605550e-01,\n",
              "        -3.70473470e-01, -8.35201657e-01, -5.88310421e-01],\n",
              "       [ 2.62530202e-01, -3.24159238e-01,  6.58987393e-01,\n",
              "        -8.77493254e-02, -1.29973677e-01, -2.53944817e-01],\n",
              "       [-4.24339852e-01,  2.94944363e-01,  4.29408804e-02,\n",
              "        -1.64382128e-02,  1.25250466e+00, -1.11481316e+00],\n",
              "       [ 1.95876403e+00, -4.46976142e-01, -3.61523469e-01,\n",
              "         3.78166158e-02, -1.35874385e+00,  2.54926996e+00],\n",
              "       [-2.08882982e+00, -1.88314735e-02, -9.70955533e-02,\n",
              "        -2.16254142e-01, -6.44227249e-01, -7.44602546e-01],\n",
              "       [-1.13023607e-01, -1.86238846e-01, -2.97895338e-01,\n",
              "        -2.22963749e-01, -5.62470562e-01,  4.57420019e-01],\n",
              "       [-5.79705381e-01,  2.67017716e-01,  1.84093879e-01,\n",
              "         2.16482314e-01,  5.45634504e-01, -4.35644834e-01],\n",
              "       [ 1.91713807e-01, -1.68566972e-01,  2.97003287e-01,\n",
              "         7.05694679e-02,  5.23796321e-01, -5.16333029e-01],\n",
              "       [-2.72239202e-01, -4.89047888e-01, -9.80538925e-01,\n",
              "        -3.10055612e-02, -2.27311308e-02,  1.01966267e+00],\n",
              "       [-1.23346135e-01, -3.64286532e-02, -6.51760975e-01,\n",
              "         1.85936297e-01,  5.65123254e-01,  6.06492768e-02],\n",
              "       [-2.97922419e-01,  1.96200301e-01,  3.88046926e-02,\n",
              "         4.48029654e-03,  3.60714550e-01, -6.48805847e-01],\n",
              "       [ 9.39499289e-01,  2.95628682e-01, -2.39798785e-01,\n",
              "        -1.51633575e-01, -3.37278906e-01,  1.55986673e+00],\n",
              "       [-1.12457706e+00, -3.95890845e-02,  4.07359309e-01,\n",
              "        -4.24913003e-01,  2.84232288e-01, -3.72874370e-01],\n",
              "       [ 5.11996712e-01, -2.72746687e-01, -3.87642250e-01,\n",
              "        -3.10369681e-01, -5.43121038e-01,  1.26839004e+00],\n",
              "       [-2.42001199e-01,  7.95623981e-02, -3.26242112e-02,\n",
              "        -1.49980831e-01,  1.03658930e+00, -1.27621939e+00],\n",
              "       [ 3.09266600e-03, -3.45965117e-01, -6.97980614e-02,\n",
              "         2.32866641e-01,  1.89503130e-01,  7.59341286e-01],\n",
              "       [-5.31937988e-01, -3.40097580e-01, -9.32193322e-01,\n",
              "         4.35478448e-01,  1.00694298e+00, -4.14037089e-01],\n",
              "       [ 9.12307324e-01, -3.62280906e-01,  1.26221666e+00,\n",
              "         8.98397928e-02,  7.65873416e-01, -3.66204147e-01],\n",
              "       [-7.74051803e-01, -6.63482779e-01, -6.54189967e-01,\n",
              "        -2.59607157e-01,  1.99537961e+00, -1.29696012e+00],\n",
              "       [-8.42058907e-01, -3.54054553e-01, -2.02329142e-01,\n",
              "        -2.30382408e-01, -6.26004581e-01, -6.77676391e-01],\n",
              "       [ 6.12123100e-01, -1.09371215e-01,  9.07194067e-01,\n",
              "        -2.16378149e-01, -6.92670434e-01, -8.06424451e-02],\n",
              "       [-5.56953094e-01, -1.25871662e+00, -6.44086664e-01,\n",
              "        -3.87323443e-02,  4.59378991e-01,  7.09651502e-01],\n",
              "       [ 8.61050197e-01, -4.97631339e-01,  4.62562650e-01,\n",
              "        -1.38999088e-01, -7.04281589e-01, -1.57425901e-01],\n",
              "       [ 6.26529516e-01,  2.32296544e-01, -1.25982927e-02,\n",
              "        -2.81542738e-01, -7.01189315e-01, -1.09311667e+00],\n",
              "       [-8.03503731e-01,  1.25631196e-02,  3.69402760e-01,\n",
              "        -1.27813200e-01,  4.16918390e-01, -5.80145725e-01],\n",
              "       [-6.40380252e-01,  7.99242970e-01,  6.77333518e-01,\n",
              "         1.29493724e-01, -2.67289807e-01, -1.32356791e-01],\n",
              "       [-1.42817990e-01,  3.95528951e-01, -6.16045147e-01,\n",
              "        -2.21118980e-01, -4.81295472e-01,  1.54688865e-01],\n",
              "       [-4.67509240e-01, -1.05180959e-01, -3.99644810e-01,\n",
              "         3.17623320e-01,  1.30423560e-01, -2.73321244e-02],\n",
              "       [ 1.75654309e-02,  2.17735118e-01, -5.48974510e-01,\n",
              "         2.06756782e-01,  2.09987106e-02, -3.48556589e-01],\n",
              "       [ 3.15334594e-01, -5.23719471e-01, -1.52798240e-01,\n",
              "        -5.94117480e-01, -1.18169310e+00, -2.39310274e-01],\n",
              "       [ 7.39953086e-01, -7.07803530e-01, -9.24387157e-01,\n",
              "        -1.83811270e-01, -1.04862626e+00, -6.02493155e-01],\n",
              "       [-1.79979306e+00, -1.09622059e-03, -1.12941806e+00,\n",
              "        -2.25646247e-01,  3.52977535e-01, -1.36898298e+00],\n",
              "       [ 2.11628109e+00, -2.04182018e-01, -9.72704161e-01,\n",
              "         1.07305304e-01, -1.10551455e+00,  1.44924200e+00],\n",
              "       [-8.35657356e-02,  3.78367223e-01,  3.44536477e-01,\n",
              "        -5.59531915e-01, -2.58114920e-01, -1.06890906e+00],\n",
              "       [ 1.67554334e-01,  5.65854477e-01, -5.73408911e-02,\n",
              "        -3.29440265e-01, -1.37895603e+00,  2.71911330e-01],\n",
              "       [-4.31196054e-01, -2.63922755e-01, -3.31075466e-01,\n",
              "        -2.31018565e-01, -1.52387857e-02, -4.65153895e-01],\n",
              "       [ 4.26784277e-01, -3.95917297e-01, -1.07862211e+00,\n",
              "        -1.26606083e-01,  6.85656418e-02, -4.84576033e-01],\n",
              "       [ 5.24250392e-01, -5.59806945e-01, -1.05679533e+00,\n",
              "         3.20892869e-01,  7.71395009e-01, -8.51486919e-02],\n",
              "       [-6.00753907e-01, -1.86765529e-01,  1.13551573e+00,\n",
              "        -1.21896542e-01,  1.68593290e+00,  2.50504001e-01],\n",
              "       [ 1.83318943e+00, -1.57671164e-01,  5.19799065e-01,\n",
              "        -9.42185449e-02, -4.68241502e-01,  8.95444339e-01],\n",
              "       [-1.48697252e+00,  1.71561533e-01, -9.57228563e-01,\n",
              "        -2.77522897e-01, -3.58786440e-01, -1.41819709e+00],\n",
              "       [ 3.65377320e-01, -5.24106548e-01,  6.28964987e-02,\n",
              "        -6.97396446e-02, -6.08868350e-01,  1.00749387e+00],\n",
              "       [-1.09152619e+00,  5.61284565e-02, -6.57002138e-01,\n",
              "        -1.59965567e-01, -9.21816336e-01, -7.77388077e-01],\n",
              "       [-1.09542433e+00,  8.74395013e-01,  9.73554169e-02,\n",
              "        -1.62572217e-01,  1.50739299e+00, -4.42463203e-01],\n",
              "       [ 6.35415131e-01,  4.82706070e-01,  3.50489523e-01,\n",
              "        -1.19059587e-02, -5.10100869e-01,  1.27616947e+00],\n",
              "       [ 1.57580864e-01, -6.04211733e-02,  3.07763714e+00,\n",
              "        -2.75019689e-01, -1.14054621e+00,  1.68321906e-01],\n",
              "       [ 2.23134502e-02, -3.96667789e-01,  4.06988707e-01,\n",
              "        -3.27717811e-01, -5.44295446e-01,  2.11199915e-01],\n",
              "       [-6.17446599e-01, -7.65246599e-01, -5.07263050e-02,\n",
              "         2.27645480e-01,  1.87431197e+00,  2.29785348e+00],\n",
              "       [ 5.93535914e-01, -7.64998384e-01,  6.65610793e-01,\n",
              "        -2.81662745e-01, -1.19858605e+00, -6.45894401e-01],\n",
              "       [ 1.39732619e+00,  6.97261931e-01,  8.39941267e-01,\n",
              "         6.86060168e+00, -1.05958936e+00,  1.52461010e+00],\n",
              "       [-1.72862368e+00,  2.01911931e-01,  5.57043462e-01,\n",
              "        -1.70622924e-01,  4.14087952e-01, -9.37271939e-01],\n",
              "       [ 1.06162046e+00, -7.06921843e-01,  2.95283274e+00,\n",
              "        -3.03852241e-01, -3.70829355e-01, -5.72988519e-01],\n",
              "       [-1.50192722e-01, -1.55123232e+00, -3.44923236e-01,\n",
              "        -7.14114023e-01,  6.39170593e-01, -9.87671934e-01],\n",
              "       [ 7.78857210e-02, -2.23184814e-01,  3.06349869e-01,\n",
              "        -1.16703165e-01, -9.67185038e-03, -7.83437905e-01],\n",
              "       [-5.88555372e-01, -3.66730190e-01,  7.84246609e-01,\n",
              "        -6.05473023e-02,  6.68451532e-01, -2.62500809e-01],\n",
              "       [-3.16410581e-01, -5.78725376e-02, -1.13397376e+00,\n",
              "         1.45245103e-01,  3.52999941e-01,  1.66887919e-01],\n",
              "       [ 3.21732370e-01,  1.52671956e-01,  5.10237090e-01,\n",
              "         3.45952860e-03, -9.73890952e-01,  3.79486663e-01],\n",
              "       [ 4.48830951e-01, -3.88736381e-01,  1.45796176e+00,\n",
              "        -1.28695307e-01, -1.39506661e-01,  2.03202844e-01],\n",
              "       [-8.29502091e-01, -3.85982103e-01, -1.07600613e-01,\n",
              "         6.43473897e+00,  1.20387789e-01, -7.96790328e-01],\n",
              "       [ 1.37378372e+00, -3.98659456e-01,  3.74432634e-01,\n",
              "        -4.53974715e-01, -1.55089844e+00,  6.41034252e-01],\n",
              "       [-7.94831238e-01, -9.14603647e-02, -2.25738017e-01,\n",
              "        -4.41660720e-01,  2.83565598e-01, -8.34691347e-01],\n",
              "       [ 1.97973536e+00, -2.41284200e-01,  2.64570913e-02,\n",
              "        -5.21037708e-01, -1.78701084e+00, -8.49312550e-01],\n",
              "       [-1.45197308e+00,  2.38758353e-01,  7.35441621e-01,\n",
              "        -4.61763996e-01,  2.66063069e+00, -8.19300817e-01],\n",
              "       [-1.58854063e+00, -1.05850503e+00, -5.46549351e-01,\n",
              "        -3.10040109e-01,  3.46240546e-01, -8.27116595e-01],\n",
              "       [ 1.52325866e+00, -1.50843667e+00, -5.98411087e-01,\n",
              "        -2.37270735e-01,  7.43289564e-01, -9.22032529e-02],\n",
              "       [-1.18054959e+00, -1.04729766e-01, -1.18777821e+00,\n",
              "         2.86299130e-03, -3.48156827e-01, -6.33798822e-01],\n",
              "       [ 1.22384014e+00, -2.48434952e-01, -7.91731086e-01,\n",
              "        -3.72515789e-01, -1.34427692e+00, -9.21403969e-01],\n",
              "       [ 6.55975559e-01, -2.59964306e-01, -1.33412319e+00,\n",
              "        -1.30907064e-01,  9.45656898e-01,  6.27101639e-01],\n",
              "       [-2.06547824e-01, -6.45976609e-01,  2.73298911e-01,\n",
              "        -9.59879122e-02,  2.18024975e-01, -1.42610121e+00],\n",
              "       [-1.36105338e+00, -6.53452821e-01,  8.07424692e-04,\n",
              "        -2.05052546e-01,  6.80096614e-01, -8.58920230e-01],\n",
              "       [ 9.91007987e-01, -5.16227080e-01,  2.96272396e-01,\n",
              "         3.03517380e-01,  7.26595752e-01, -9.94374813e-01],\n",
              "       [-8.20914240e-01, -2.06848630e-01, -2.82781614e-01,\n",
              "        -6.15486873e-02,  3.92703521e-01,  2.30500443e-01],\n",
              "       [ 6.09760122e-01, -4.34871308e-01,  7.10760382e-02,\n",
              "        -2.92338903e-01, -4.97108056e-02, -4.19571709e-02],\n",
              "       [-1.84295450e+00,  9.75226806e-01,  9.27222029e-01,\n",
              "        -2.78279986e-01,  1.42661469e+00, -5.79832157e-01],\n",
              "       [ 1.63878088e+00,  7.69762539e-01, -9.17873924e-01,\n",
              "        -1.98508739e-02, -1.56930961e+00,  2.13780240e+00],\n",
              "       [ 6.85777052e-01, -9.32938548e-01, -1.29760985e+00,\n",
              "         1.72224111e-01,  5.53125826e-01,  1.83784737e+00],\n",
              "       [-1.68383982e+00, -1.66535923e-01,  9.05807788e-01,\n",
              "        -2.47582599e-01,  1.12643545e-01, -7.27421491e-01],\n",
              "       [-3.08543665e-01,  5.16585630e-01, -1.29671827e+00,\n",
              "        -7.82766284e-02,  5.88839461e-01,  1.72782089e-01],\n",
              "       [ 1.11242919e+00, -3.07009872e-01,  2.34024310e-01,\n",
              "         7.62619400e-03, -1.36027509e+00,  1.32278665e-01],\n",
              "       [ 9.75002184e-01, -4.07626419e-01, -9.28049375e-02,\n",
              "        -1.31839650e-01,  2.81833558e-01,  1.80282693e-01],\n",
              "       [-6.87440181e-01, -2.88109782e-01,  7.37388937e-01,\n",
              "        -3.83698610e-01,  6.81585887e-01, -2.63988649e-01],\n",
              "       [ 8.73916730e-01, -2.11435075e+00, -1.31599211e+00,\n",
              "        -3.58315434e-01, -7.45846842e-01, -7.06248429e-02],\n",
              "       [ 2.94990353e-01, -2.30411753e+00, -1.03671949e+00,\n",
              "        -4.35262775e-01, -1.29960946e+00,  2.37816544e-01],\n",
              "       [-9.22049618e-01, -7.66627870e-01, -5.55658897e-01,\n",
              "        -1.54029231e-01, -1.10392413e-01, -1.05099606e+00],\n",
              "       [ 1.39252867e-01, -6.30430394e-01, -1.97550063e-01,\n",
              "         2.50973678e-01, -7.18476603e-02, -1.16636114e+00],\n",
              "       [-1.17286533e+00, -4.13555923e-01,  1.52264303e-01,\n",
              "        -2.51873361e-01,  9.65462602e-01, -9.80541381e-01],\n",
              "       [ 1.17113967e+00, -3.21611858e-02,  7.48063928e-01,\n",
              "         2.99130922e-01,  8.44339965e-01,  2.17814705e-01],\n",
              "       [ 1.58108046e-01,  1.27557949e-01, -1.02709285e+00,\n",
              "        -2.43467158e-01, -9.99955630e-01,  4.26534341e-01],\n",
              "       [ 5.20518300e-01, -1.56197021e-01, -3.66858027e-01,\n",
              "        -2.68845565e-01,  1.56573243e-01,  1.11125431e+00],\n",
              "       [-6.14869856e-01, -7.69192574e-01,  1.75272944e+00,\n",
              "        -4.05733538e-01,  1.22748209e+00, -9.42610353e-01],\n",
              "       [ 8.61613809e-01, -1.03122917e+00,  5.07555467e-01,\n",
              "         1.14570827e-01,  1.82872571e+00, -2.43356782e-02],\n",
              "       [-1.41231460e+00,  3.31067254e-02,  3.03039020e-01,\n",
              "         9.74930723e-02, -6.10893409e-01, -9.97615675e-01],\n",
              "       [ 7.97572654e-01, -9.68196492e-03, -6.24197123e-01,\n",
              "         4.48855050e-01, -4.79246471e-01,  4.63543486e+00],\n",
              "       [ 3.29394371e+00,  2.34396367e+00, -5.63395984e-01,\n",
              "        -1.51768244e-02, -1.44749180e+00,  2.13424018e+00],\n",
              "       [-2.19323121e+00,  3.21978914e+00,  1.94039143e-01,\n",
              "         1.76432418e-01,  7.92413403e-01, -4.81739662e-01],\n",
              "       [ 4.52895690e-01,  2.17162609e+00, -3.73671871e-02,\n",
              "        -1.25552903e-01, -1.47977231e+00,  1.16593804e+00],\n",
              "       [-3.45399959e-01,  2.47674520e+00,  1.73797289e-01,\n",
              "        -1.75256891e-01, -2.31714131e-01, -2.68446642e-01],\n",
              "       [-3.08217638e-02, -1.16509043e+00,  8.32022996e-01,\n",
              "        -3.95475251e-01, -3.84932663e-01,  4.76903759e-01],\n",
              "       [ 2.02567102e-01, -1.65241912e+00, -1.43983193e+00,\n",
              "         9.89726897e-02,  1.35512304e+00,  1.85813456e+00],\n",
              "       [ 9.37403086e-01,  1.86828562e-01,  1.13120535e+00,\n",
              "        -1.79472707e-01, -1.23199487e+00,  1.33673441e+00],\n",
              "       [-1.97096438e-01,  1.16787678e-01,  3.50022330e-01,\n",
              "        -2.27310244e-01, -5.68574554e-01, -1.80014700e-01],\n",
              "       [-1.33269368e+00, -4.51982394e-02, -3.09578352e-01,\n",
              "        -2.55003934e-01, -3.85367048e-01, -1.32288281e-01],\n",
              "       [ 1.06977578e+00, -3.52115183e-01, -1.62582000e+00,\n",
              "         5.28271413e-01,  1.42892461e-01,  2.68850400e+00],\n",
              "       [-3.37723356e-01,  2.48688720e+00,  1.24489111e-01,\n",
              "         8.99626747e-02,  2.67537326e+00, -1.17521653e-01],\n",
              "       [ 5.76244421e-02,  3.08550553e+00, -1.91385745e-01,\n",
              "         1.27657938e-01,  1.80165450e-01,  3.13071458e-01],\n",
              "       [-1.04449445e+00, -1.51366644e-01, -8.65663888e-01,\n",
              "         1.07612344e-01,  3.51218522e-01, -7.52499282e-01],\n",
              "       [ 4.94945222e-01, -5.63588243e-01, -4.11151163e-02,\n",
              "        -1.33691394e-01,  1.19286454e-01, -5.50170638e-01],\n",
              "       [ 8.04067102e-01, -2.45849566e-01,  1.55475692e-01,\n",
              "        -2.87173265e-02,  1.23820880e-02,  2.58501954e+00],\n",
              "       [-5.87274116e-01, -2.15448589e-01,  6.11195441e-01,\n",
              "        -1.25087227e-01,  4.27715311e-01, -5.12536587e-01],\n",
              "       [-7.47844619e-01,  6.88905276e-03, -9.65814419e-01,\n",
              "        -2.02968986e-01, -1.74811238e-03, -9.34478282e-01],\n",
              "       [ 3.64878722e-01,  2.52253244e-01, -3.76628278e-01,\n",
              "         1.24369832e-01, -6.42373327e-01,  7.79646512e-01],\n",
              "       [-1.37603111e+00,  3.58469420e+00,  1.38343413e+00,\n",
              "         7.03147041e-01,  5.50942994e-01, -5.11665194e-01],\n",
              "       [ 1.15940122e+00,  2.75079207e+00,  1.88286192e-01,\n",
              "         2.83401319e-01,  1.17982929e+00,  1.37748646e-01],\n",
              "       [-6.13844762e-01, -3.70101961e-01, -6.77556506e-02,\n",
              "        -7.16807462e-01, -2.43361649e-01,  9.41210899e-01],\n",
              "       [ 1.12358331e+00, -5.38271131e-01, -7.69228272e-01,\n",
              "        -2.02726759e-01,  5.27644508e-01, -6.97091683e-01],\n",
              "       [ 2.58419231e-01,  3.22776909e+00,  1.04033164e+00,\n",
              "         3.27940956e-01,  5.08833387e-01,  4.31039331e-01],\n",
              "       [-6.42288612e-01,  3.47885328e+00, -9.61633060e-04,\n",
              "         2.50660553e-01, -6.03084143e-02, -2.39830152e-01],\n",
              "       [ 4.79579733e-02, -6.02050209e-02,  3.11324553e-01,\n",
              "        -4.38941318e-01, -5.26768598e-01,  6.03338498e-01],\n",
              "       [ 1.30564456e+00,  1.52377098e-01, -7.85830794e-01,\n",
              "        -6.45437716e-01, -6.58991413e-01, -1.05463120e-01],\n",
              "       [-1.14736340e+00, -6.04957611e-01,  1.72370902e+00,\n",
              "        -6.02571680e-02,  4.43663789e-01, -9.10767135e-01],\n",
              "       [ 7.44178804e-01, -4.71575052e-01, -3.29456654e-02,\n",
              "        -3.39512817e-02, -5.25737020e-01,  2.57221705e-01]])"
            ]
          },
          "metadata": {
            "tags": []
          },
          "execution_count": 46
        }
      ]
    },
    {
      "cell_type": "markdown",
      "metadata": {
        "id": "F06vLqDMVgf5"
      },
      "source": [
        " Run Factor Analyzer อีกครั้ง ด้วย paremeters จำนวน factor เท่ากับ 6"
      ]
    },
    {
      "cell_type": "code",
      "metadata": {
        "id": "MGax7rYfVl6d"
      },
      "source": [
        "from factor_analyzer import FactorAnalyzer\n",
        "ex_fa2 = FactorAnalyzer(n_factors=6)\n",
        "data_ex_fa2 = ex_fa2.fit_transform(exam_drop)"
      ],
      "execution_count": 47,
      "outputs": []
    },
    {
      "cell_type": "code",
      "metadata": {
        "id": "RGrRUZZCVoD8",
        "outputId": "4533b617-cd54-44ff-c937-fece251f99f9",
        "colab": {
          "base_uri": "https://localhost:8080/"
        }
      },
      "source": [
        "ex_fa2.loadings_.shape\n",
        "\n",
        "# เช็คขนาดของ ex_fa2 "
      ],
      "execution_count": 48,
      "outputs": [
        {
          "output_type": "execute_result",
          "data": {
            "text/plain": [
              "(17, 6)"
            ]
          },
          "metadata": {
            "tags": []
          },
          "execution_count": 48
        }
      ]
    },
    {
      "cell_type": "code",
      "metadata": {
        "id": "wVe2t4TPVqdo"
      },
      "source": [
        "***\n",
        "**จากนั้นทำการ Plot factor loadings**"
      ],
      "execution_count": null,
      "outputs": []
    },
    {
      "cell_type": "code",
      "metadata": {
        "id": "kJEgWJg6Vsti"
      },
      "source": [
        "from matplotlib import pyplot as plt\n",
        "import numpy as np\n",
        "import matplotlib"
      ],
      "execution_count": 49,
      "outputs": []
    },
    {
      "cell_type": "code",
      "metadata": {
        "id": "XZk6RefWVvIp"
      },
      "source": [
        "Matrix plot\n",
        "\n"
      ],
      "execution_count": null,
      "outputs": []
    },
    {
      "cell_type": "code",
      "metadata": {
        "id": "PNC9fk9CVyuJ",
        "outputId": "39f6f6d6-0d41-4793-80f7-27d44b672fd5",
        "colab": {
          "base_uri": "https://localhost:8080/",
          "height": 881
        }
      },
      "source": [
        "## Matrix plot\n",
        "matplotlib.rcParams['figure.figsize']=[15,15]\n",
        "plt.imshow(np.absolute(ex_fa2.loadings_))"
      ],
      "execution_count": 50,
      "outputs": [
        {
          "output_type": "execute_result",
          "data": {
            "text/plain": [
              "<matplotlib.image.AxesImage at 0x7ff19e0b0a90>"
            ]
          },
          "metadata": {
            "tags": []
          },
          "execution_count": 50
        },
        {
          "output_type": "display_data",
          "data": {
            "image/png": "[encoded data removed]",
            "text/plain": [
              "<Figure size 1080x1080 with 1 Axes>"
            ]
          },
          "metadata": {
            "tags": [],
            "needs_background": "light"
          }
        }
      ]
    },
    {
      "cell_type": "markdown",
      "metadata": {
        "id": "bI8Y5dWfV5AM"
      },
      "source": [
        "กราฟนี้มีความชัดเจนอยู่ 4 จุดคือ [1,0] , [5,1] , [3,2] และ [13,3]"
      ]
    },
    {
      "cell_type": "markdown",
      "metadata": {
        "id": "CLilVnfKWCci"
      },
      "source": [
        "(Exploratory Factors Analysis หรือ การวิเคราะห์องค์ประกอบเชิงสำรวจ)"
      ]
    },
    {
      "cell_type": "code",
      "metadata": {
        "id": "LYzCFXLAWFoJ",
        "outputId": "d5bb3d21-25fa-4bfe-c9fa-e1bad5e69bf7",
        "colab": {
          "base_uri": "https://localhost:8080/"
        }
      },
      "source": [
        "exam_drop.columns\n",
        "## ตรวจสอบชื่อทั้งหมด 17 Factors"
      ],
      "execution_count": 51,
      "outputs": [
        {
          "output_type": "execute_result",
          "data": {
            "text/plain": [
              "Index(['Goal Scored', 'Ball Possession %', 'Attempts', 'On-Target',\n",
              "       'Off-Target', 'Blocked', 'Corners', 'Offsides', 'Free Kicks', 'Saves',\n",
              "       'Pass Accuracy %', 'Passes', 'Distance Covered (Kms)',\n",
              "       'Fouls Committed', 'Yellow Card', 'Yellow & Red', 'Red'],\n",
              "      dtype='object')"
            ]
          },
          "metadata": {
            "tags": []
          },
          "execution_count": 51
        }
      ]
    },
    {
      "cell_type": "code",
      "metadata": {
        "id": "yV5C63wWWIBq",
        "outputId": "b0ad9523-e2d6-49d7-e6fb-7bae28991c7b",
        "colab": {
          "base_uri": "https://localhost:8080/",
          "height": 881
        }
      },
      "source": [
        "plt.bar(range(17),np.absolute(ex_fa2.loadings_[:,0]),tick_label=exam_drop.columns)"
      ],
      "execution_count": 52,
      "outputs": [
        {
          "output_type": "execute_result",
          "data": {
            "text/plain": [
              "<BarContainer object of 17 artists>"
            ]
          },
          "metadata": {
            "tags": []
          },
          "execution_count": 52
        },
        {
          "output_type": "display_data",
          "data": {
            "image/png": "[encoded data removed]",
            "text/plain": [
              "<Figure size 1080x1080 with 1 Axes>"
            ]
          },
          "metadata": {
            "tags": [],
            "needs_background": "light"
          }
        }
      ]
    },
    {
      "cell_type": "markdown",
      "metadata": {
        "id": "lg7Wryc2WLHk"
      },
      "source": [
        "\n",
        "\n",
        "ในข้อมูล มีตัวแปร Factors จำนวน 6 ตัว ที่สามารถอธิบายข้อมูลทั้งหมดได้และสามารถวิเคราะห์องค์ประกอบเชิงสำรวจ  และ วิเคราะห์องค์ประกอบเชิงยืนยันได้\n"
      ]
    },
    {
      "cell_type": "markdown",
      "metadata": {
        "id": "AMJjMZekWLBS"
      },
      "source": [
        ""
      ]
    }
  ]
}