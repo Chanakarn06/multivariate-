{
  "nbformat": 4,
  "nbformat_minor": 0,
  "metadata": {
    "colab": {
      "name": "Function_Numpy_Pandas.ipynb",
      "provenance": [],
      "authorship_tag": "ABX9TyOHeIuTrEM+TGm/b8tw9K7C",
      "include_colab_link": true
    },
    "kernelspec": {
      "name": "python3",
      "display_name": "Python 3"
    }
  },
  "cells": [
    {
      "cell_type": "markdown",
      "metadata": {
        "id": "view-in-github",
        "colab_type": "text"
      },
      "source": [
        "<a href=\"https://colab.research.google.com/github/Chanakarn06/multivariate-/blob/main/Function_Numpy_Pandas.ipynb\" target=\"_parent\"><img src=\"https://colab.research.google.com/assets/colab-badge.svg\" alt=\"Open In Colab\"/></a>"
      ]
    },
    {
      "cell_type": "markdown",
      "metadata": {
        "id": "uttRFPKTTbD_"
      },
      "source": [
        "Function"
      ]
    },
    {
      "cell_type": "markdown",
      "metadata": {
        "id": "bXWOptl5afKp"
      },
      "source": [
        "\r\n",
        "\r\n",
        "```\r\n",
        "def function_name(_Input_):\r\n",
        "      do_somthing with _Input_ to produce _Output_\r\n",
        "      return _Output_\r\n",
        "```\r\n",
        "\r\n"
      ]
    },
    {
      "cell_type": "markdown",
      "metadata": {
        "id": "OWDMtoKNeATH"
      },
      "source": [
        "function มีส่วนสำคัญทั้งหมด 4 ส่วน\r\n",
        "\r\n",
        "```\r\n",
        " 1. บอก python ว่าเราจะเขียนฟังก์ชั่น ชื่ออะไร def function_name(): (ขาดไม่ได้)\r\n",
        " 2. กำหนดตัวแปรที่จะเป็น input Input (ขาดได้)\r\n",
        " 3. ส่วนประมวลผล do_something with Input to get Output (ขาดไม่ได้)\r\n",
        " 4. ส่วน output return Output(ขาดได้)\r\n",
        "\r\n",
        " ```\r\n",
        "เราใช้ เว้นวรรค (indent) เพื่อบอกขอบเขตของ code\r\n"
      ]
    },
    {
      "cell_type": "markdown",
      "metadata": {
        "id": "DEfULSfDTgjB"
      },
      "source": [
        "input มีกี่ตัวก็ได้"
      ]
    },
    {
      "cell_type": "markdown",
      "metadata": {
        "id": "dFTJpvz1eSu0"
      },
      "source": [
        "สร้างฟังก์ชั่น"
      ]
    },
    {
      "cell_type": "code",
      "metadata": {
        "id": "J9APJ-vPTdXj"
      },
      "source": [
        "def print_name(name,surname,ID):\r\n",
        "    st = f'ชื่อ {name} นามสกุล {surname} ID {ID}'\r\n",
        "    return st"
      ],
      "execution_count": 2,
      "outputs": []
    },
    {
      "cell_type": "markdown",
      "metadata": {
        "id": "7bQx_M5Lebqj"
      },
      "source": [
        "การใช้ฟังก์ชั่น"
      ]
    },
    {
      "cell_type": "code",
      "metadata": {
        "colab": {
          "base_uri": "https://localhost:8080/",
          "height": 35
        },
        "id": "qxZka3BAWzM0",
        "outputId": "0f2689c7-d658-40a0-9233-8fcd34c22dda"
      },
      "source": [
        "print_name('ชนกานต์','พูลผล','623021046-7')"
      ],
      "execution_count": 3,
      "outputs": [
        {
          "output_type": "execute_result",
          "data": {
            "application/vnd.google.colaboratory.intrinsic+json": {
              "type": "string"
            },
            "text/plain": [
              "'ชื่อ ชนกานต์ นามสกุล พูลผล ID 623021046-7'"
            ]
          },
          "metadata": {
            "tags": []
          },
          "execution_count": 3
        }
      ]
    },
    {
      "cell_type": "code",
      "metadata": {
        "colab": {
          "base_uri": "https://localhost:8080/"
        },
        "id": "-rTSZAAjXGfi",
        "outputId": "85a385cf-6985-4a69-8bf7-bdc47c88579a"
      },
      "source": [
        "output_string=print_name('ชนกานต์','พูลผล','623021046-7')\r\n",
        "print(output_string)"
      ],
      "execution_count": 4,
      "outputs": [
        {
          "output_type": "stream",
          "text": [
            "ชื่อ ชนกานต์ นามสกุล พูลผล ID 623021046-7\n"
          ],
          "name": "stdout"
        }
      ]
    },
    {
      "cell_type": "markdown",
      "metadata": {
        "id": "ptOxGInAX5Ch"
      },
      "source": [
        "ฟังชันก์ไม่จำเป็นต้องมี output"
      ]
    },
    {
      "cell_type": "code",
      "metadata": {
        "id": "HX8Kgn9zYCs6"
      },
      "source": [
        "def print_name2(name,surname,ID):\r\n",
        "    st = f'ชื่อ {name} นามสกุล {surname} ID {ID}'\r\n",
        "    print (st)\r\n"
      ],
      "execution_count": 5,
      "outputs": []
    },
    {
      "cell_type": "code",
      "metadata": {
        "colab": {
          "base_uri": "https://localhost:8080/"
        },
        "id": "ZFNM358dYFCz",
        "outputId": "d50e2d2b-d7f8-4d59-9aa5-00843947cdfb"
      },
      "source": [
        "print_name2('ชนกานต์','พูลผล','623021046-7')"
      ],
      "execution_count": 6,
      "outputs": [
        {
          "output_type": "stream",
          "text": [
            "ชื่อ ชนกานต์ นามสกุล พูลผล ID 623021046-7\n"
          ],
          "name": "stdout"
        }
      ]
    },
    {
      "cell_type": "code",
      "metadata": {
        "colab": {
          "base_uri": "https://localhost:8080/"
        },
        "id": "Beszb5BPYRwW",
        "outputId": "1d17a1d2-b16a-4bff-9f30-c67072f6f99d"
      },
      "source": [
        "op2 = print_name2('ชนกานต์','พูลผล','623021046-7')\r\n"
      ],
      "execution_count": 7,
      "outputs": [
        {
          "output_type": "stream",
          "text": [
            "ชื่อ ชนกานต์ นามสกุล พูลผล ID 623021046-7\n"
          ],
          "name": "stdout"
        }
      ]
    },
    {
      "cell_type": "code",
      "metadata": {
        "colab": {
          "base_uri": "https://localhost:8080/"
        },
        "id": "7CzDqEjdZMAX",
        "outputId": "8b4978a2-8bb0-4a14-fb62-f234ff7d1d03"
      },
      "source": [
        "print(op2)"
      ],
      "execution_count": 8,
      "outputs": [
        {
          "output_type": "stream",
          "text": [
            "None\n"
          ],
          "name": "stdout"
        }
      ]
    },
    {
      "cell_type": "markdown",
      "metadata": {
        "id": "f-bivx0mZYVa"
      },
      "source": [
        "ฟังชันก์ไม่จำเป็นต้องมี input"
      ]
    },
    {
      "cell_type": "code",
      "metadata": {
        "id": "x60Mwu7UZZ3_"
      },
      "source": [
        "def pi():\r\n",
        "  return 3.14159265359"
      ],
      "execution_count": 9,
      "outputs": []
    },
    {
      "cell_type": "code",
      "metadata": {
        "colab": {
          "base_uri": "https://localhost:8080/"
        },
        "id": "1W0JUNhzZsU4",
        "outputId": "5a641db6-b793-495f-fd7a-ba4eabdf5c17"
      },
      "source": [
        "#คำนวณพื้นที่วงกลมที่มีขนาดเส้นผ่านศูนย์กลางเท่ากับ3\r\n",
        "pi()*(1.5**2)"
      ],
      "execution_count": 10,
      "outputs": [
        {
          "output_type": "execute_result",
          "data": {
            "text/plain": [
              "7.0685834705775"
            ]
          },
          "metadata": {
            "tags": []
          },
          "execution_count": 10
        }
      ]
    },
    {
      "cell_type": "code",
      "metadata": {
        "id": "ZBHN0hLSetoA"
      },
      "source": [
        "def print_my_name( ):\r\n",
        "      print( ' ชนกานต์  พูลผล  623021046-7 ' )"
      ],
      "execution_count": 13,
      "outputs": []
    },
    {
      "cell_type": "code",
      "metadata": {
        "id": "OA0mixade4iD",
        "outputId": "e9699cca-b338-448d-912d-3c55536d1cd3",
        "colab": {
          "base_uri": "https://localhost:8080/"
        }
      },
      "source": [
        "print_my_name( )"
      ],
      "execution_count": 14,
      "outputs": [
        {
          "output_type": "stream",
          "text": [
            " ชนกานต์  พูลผล  623021046-7 \n"
          ],
          "name": "stdout"
        }
      ]
    },
    {
      "cell_type": "markdown",
      "metadata": {
        "id": "U6BR2rtJe7Np"
      },
      "source": [
        "1. input ของ function ใน python มีสองแบบ input ที่จำเป็นต้องใส่ กับ input ที่ไม่จำเป็นต้องใส่ (มีค่า default)\r\n",
        "2. เราต้องเรียง input ที่จำเป็นต้องใส่ขึ้นก่อน"
      ]
    },
    {
      "cell_type": "code",
      "metadata": {
        "id": "kTEnxExXe8Su"
      },
      "source": [
        "def print_2lines_default(name,surname,ID,grade= 'F' ):\r\n",
        "      st = f' ชื่อ {name} นามสกุล {surname} isyl {ID}'\r\n",
        "      print(st)\r\n",
        "      st2=f'เกรดวิชา Multivariate >>> {grade}'\r\n",
        "      print(st2)"
      ],
      "execution_count": 17,
      "outputs": []
    },
    {
      "cell_type": "code",
      "metadata": {
        "id": "G6u5eUB8fBBM",
        "outputId": "0d9738c4-cbca-4dbe-aaf9-ec3b1c87226c",
        "colab": {
          "base_uri": "https://localhost:8080/"
        }
      },
      "source": [
        "print_2lines_default('ชนกานต์' , 'พูลผล' , '623021046-7' )"
      ],
      "execution_count": 18,
      "outputs": [
        {
          "output_type": "stream",
          "text": [
            " ชื่อ ชนกานต์ นามสกุล พูลผล isyl 623021046-7\n",
            "เกรดวิชา Multivariate >>> F\n"
          ],
          "name": "stdout"
        }
      ]
    },
    {
      "cell_type": "code",
      "metadata": {
        "id": "2FeRrxdLfKKc",
        "outputId": "27bb2623-7c24-4f34-ad74-51399d0b718e",
        "colab": {
          "base_uri": "https://localhost:8080/"
        }
      },
      "source": [
        "print_2lines_default('ชนกานต์' , 'พูลผล' , '623021046-7', 'A' )"
      ],
      "execution_count": 20,
      "outputs": [
        {
          "output_type": "stream",
          "text": [
            " ชื่อ ชนกานต์ นามสกุล พูลผล isyl 623021046-7\n",
            "เกรดวิชา Multivariate >>> A\n"
          ],
          "name": "stdout"
        }
      ]
    },
    {
      "cell_type": "markdown",
      "metadata": {
        "id": "381DLDb0fWTE"
      },
      "source": [
        "เราสามารถเรียกฟังก์ชั่นโดยใช้ชื่อตัวแปรอื่นของฟังก์ชั่นช่วยได้\r\n"
      ]
    },
    {
      "cell_type": "code",
      "metadata": {
        "id": "OPxAJlQtfcuq",
        "outputId": "63f2947e-f2d5-4bee-fa45-5f3f85cea9db",
        "colab": {
          "base_uri": "https://localhost:8080/"
        }
      },
      "source": [
        "print_name2(name='ชนกานต์', surname='พูลผล', ID='623021046-7')"
      ],
      "execution_count": 21,
      "outputs": [
        {
          "output_type": "stream",
          "text": [
            "ชื่อ ชนกานต์ นามสกุล พูลผล ID 623021046-7\n"
          ],
          "name": "stdout"
        }
      ]
    },
    {
      "cell_type": "markdown",
      "metadata": {
        "id": "ducqLJdgfshK"
      },
      "source": [
        "\r\n",
        "\r\n",
        "```\r\n",
        "HW3 ให้เขียน function คำนวณจำนวนวินาทีจาก เวลาต่อไปนี้\r\n",
        "\r\n",
        "'14-15-31'\r\n",
        "\r\n",
        "'13-00-01'\r\n",
        "\r\n",
        "'05-49-44'\r\n",
        "\r\n",
        "'00-00-16'\r\n",
        "และ print ให้สวยงาม\r\n",
        "```\r\n",
        "\r\n"
      ]
    },
    {
      "cell_type": "markdown",
      "metadata": {
        "id": "JxGJ0V9Yf1Rc"
      },
      "source": [
        "ANSWER"
      ]
    },
    {
      "cell_type": "code",
      "metadata": {
        "id": "aTeSbzIFf6tS"
      },
      "source": [
        "def function_time(time):\r\n",
        "    st = time.split('-')\r\n",
        "    ans = int(st[0]) * 3600 + int(st[1]) * 60 + int(st[2]) \r\n",
        "    print(f'คำนวณจำนวนวินาทีจาก {time} จะเท่ากับ {ans} วินาที')"
      ],
      "execution_count": 22,
      "outputs": []
    },
    {
      "cell_type": "code",
      "metadata": {
        "id": "j6SxWjqrf9aJ",
        "outputId": "c0fb9622-2480-40ac-c9b0-41cba5aa32cd",
        "colab": {
          "base_uri": "https://localhost:8080/"
        }
      },
      "source": [
        "function_time('14-15-31')"
      ],
      "execution_count": 23,
      "outputs": [
        {
          "output_type": "stream",
          "text": [
            "คำนวณจำนวนวินาทีจาก 14-15-31 จะเท่ากับ 51331 วินาที\n"
          ],
          "name": "stdout"
        }
      ]
    },
    {
      "cell_type": "code",
      "metadata": {
        "id": "bFoWEFdnf__4",
        "outputId": "355390be-e420-4f51-9cee-7541adc10698",
        "colab": {
          "base_uri": "https://localhost:8080/"
        }
      },
      "source": [
        "function_time('13-00-01')\r\n"
      ],
      "execution_count": 24,
      "outputs": [
        {
          "output_type": "stream",
          "text": [
            "คำนวณจำนวนวินาทีจาก 13-00-01 จะเท่ากับ 46801 วินาที\n"
          ],
          "name": "stdout"
        }
      ]
    },
    {
      "cell_type": "code",
      "metadata": {
        "id": "LidO7O6CgDsI",
        "outputId": "56a4177a-2311-4cff-9fc1-3b36fcab8552",
        "colab": {
          "base_uri": "https://localhost:8080/"
        }
      },
      "source": [
        "function_time('15-49-44')"
      ],
      "execution_count": 25,
      "outputs": [
        {
          "output_type": "stream",
          "text": [
            "คำนวณจำนวนวินาทีจาก 15-49-44 จะเท่ากับ 56984 วินาที\n"
          ],
          "name": "stdout"
        }
      ]
    },
    {
      "cell_type": "code",
      "metadata": {
        "id": "2vFGUJZPgEg0",
        "outputId": "b8f60bbc-021d-44fb-ed68-a67f782272ae",
        "colab": {
          "base_uri": "https://localhost:8080/"
        }
      },
      "source": [
        "function_time('00-00-16')"
      ],
      "execution_count": 26,
      "outputs": [
        {
          "output_type": "stream",
          "text": [
            "คำนวณจำนวนวินาทีจาก 00-00-16 จะเท่ากับ 16 วินาที\n"
          ],
          "name": "stdout"
        }
      ]
    }
  ]
}