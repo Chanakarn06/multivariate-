{
  "nbformat": 4,
  "nbformat_minor": 0,
  "metadata": {
    "colab": {
      "name": "Function_Numpy_Pandas.ipynb",
      "provenance": [],
      "authorship_tag": "ABX9TyO3w5CaxxSyiLToo/N6QJZA",
      "include_colab_link": true
    },
    "kernelspec": {
      "name": "python3",
      "display_name": "Python 3"
    }
  },
  "cells": [
    {
      "cell_type": "markdown",
      "metadata": {
        "id": "view-in-github",
        "colab_type": "text"
      },
      "source": [
        "<a href=\"https://colab.research.google.com/github/Chanakarn06/multivariate-/blob/main/Function_Numpy_Pandas.ipynb\" target=\"_parent\"><img src=\"https://colab.research.google.com/assets/colab-badge.svg\" alt=\"Open In Colab\"/></a>"
      ]
    },
    {
      "cell_type": "markdown",
      "metadata": {
        "id": "uttRFPKTTbD_"
      },
      "source": [
        "Function"
      ]
    },
    {
      "cell_type": "markdown",
      "metadata": {
        "id": "bXWOptl5afKp"
      },
      "source": [
        "\r\n",
        "\r\n",
        "```\r\n",
        "def function_name(_Input_):\r\n",
        "      do_somthing with _Input_ to produce _Output_\r\n",
        "      return _Output_\r\n",
        "```\r\n",
        "\r\n"
      ]
    },
    {
      "cell_type": "markdown",
      "metadata": {
        "id": "OWDMtoKNeATH"
      },
      "source": [
        "function มีส่วนสำคัญทั้งหมด 4 ส่วน\r\n",
        "\r\n",
        "```\r\n",
        " 1. บอก python ว่าเราจะเขียนฟังก์ชั่น ชื่ออะไร def function_name(): (ขาดไม่ได้)\r\n",
        " 2. กำหนดตัวแปรที่จะเป็น input Input (ขาดได้)\r\n",
        " 3. ส่วนประมวลผล do_something with Input to get Output (ขาดไม่ได้)\r\n",
        " 4. ส่วน output return Output(ขาดได้)\r\n",
        "\r\n",
        " ```\r\n",
        "เราใช้ เว้นวรรค (indent) เพื่อบอกขอบเขตของ code\r\n"
      ]
    },
    {
      "cell_type": "markdown",
      "metadata": {
        "id": "DEfULSfDTgjB"
      },
      "source": [
        "input มีกี่ตัวก็ได้"
      ]
    },
    {
      "cell_type": "markdown",
      "metadata": {
        "id": "dFTJpvz1eSu0"
      },
      "source": [
        "สร้างฟังก์ชั่น"
      ]
    },
    {
      "cell_type": "code",
      "metadata": {
        "id": "J9APJ-vPTdXj"
      },
      "source": [
        "def print_name(name,surname,ID):\r\n",
        "    st = f'ชื่อ {name} นามสกุล {surname} ID {ID}'\r\n",
        "    return st"
      ],
      "execution_count": null,
      "outputs": []
    },
    {
      "cell_type": "markdown",
      "metadata": {
        "id": "7bQx_M5Lebqj"
      },
      "source": [
        "การใช้ฟังก์ชั่น"
      ]
    },
    {
      "cell_type": "code",
      "metadata": {
        "colab": {
          "base_uri": "https://localhost:8080/",
          "height": 35
        },
        "id": "qxZka3BAWzM0",
        "outputId": "0f2689c7-d658-40a0-9233-8fcd34c22dda"
      },
      "source": [
        "print_name('ชนกานต์','พูลผล','623021046-7')"
      ],
      "execution_count": null,
      "outputs": [
        {
          "output_type": "execute_result",
          "data": {
            "application/vnd.google.colaboratory.intrinsic+json": {
              "type": "string"
            },
            "text/plain": [
              "'ชื่อ ชนกานต์ นามสกุล พูลผล ID 623021046-7'"
            ]
          },
          "metadata": {
            "tags": []
          },
          "execution_count": 3
        }
      ]
    },
    {
      "cell_type": "code",
      "metadata": {
        "colab": {
          "base_uri": "https://localhost:8080/"
        },
        "id": "-rTSZAAjXGfi",
        "outputId": "85a385cf-6985-4a69-8bf7-bdc47c88579a"
      },
      "source": [
        "output_string=print_name('ชนกานต์','พูลผล','623021046-7')\r\n",
        "print(output_string)"
      ],
      "execution_count": null,
      "outputs": [
        {
          "output_type": "stream",
          "text": [
            "ชื่อ ชนกานต์ นามสกุล พูลผล ID 623021046-7\n"
          ],
          "name": "stdout"
        }
      ]
    },
    {
      "cell_type": "markdown",
      "metadata": {
        "id": "ptOxGInAX5Ch"
      },
      "source": [
        "ฟังชันก์ไม่จำเป็นต้องมี output"
      ]
    },
    {
      "cell_type": "code",
      "metadata": {
        "id": "HX8Kgn9zYCs6"
      },
      "source": [
        "def print_name2(name,surname,ID):\r\n",
        "    st = f'ชื่อ {name} นามสกุล {surname} ID {ID}'\r\n",
        "    print (st)\r\n"
      ],
      "execution_count": null,
      "outputs": []
    },
    {
      "cell_type": "code",
      "metadata": {
        "colab": {
          "base_uri": "https://localhost:8080/"
        },
        "id": "ZFNM358dYFCz",
        "outputId": "d50e2d2b-d7f8-4d59-9aa5-00843947cdfb"
      },
      "source": [
        "print_name2('ชนกานต์','พูลผล','623021046-7')"
      ],
      "execution_count": null,
      "outputs": [
        {
          "output_type": "stream",
          "text": [
            "ชื่อ ชนกานต์ นามสกุล พูลผล ID 623021046-7\n"
          ],
          "name": "stdout"
        }
      ]
    },
    {
      "cell_type": "code",
      "metadata": {
        "colab": {
          "base_uri": "https://localhost:8080/"
        },
        "id": "Beszb5BPYRwW",
        "outputId": "1d17a1d2-b16a-4bff-9f30-c67072f6f99d"
      },
      "source": [
        "op2 = print_name2('ชนกานต์','พูลผล','623021046-7')\r\n"
      ],
      "execution_count": null,
      "outputs": [
        {
          "output_type": "stream",
          "text": [
            "ชื่อ ชนกานต์ นามสกุล พูลผล ID 623021046-7\n"
          ],
          "name": "stdout"
        }
      ]
    },
    {
      "cell_type": "code",
      "metadata": {
        "colab": {
          "base_uri": "https://localhost:8080/"
        },
        "id": "7CzDqEjdZMAX",
        "outputId": "8b4978a2-8bb0-4a14-fb62-f234ff7d1d03"
      },
      "source": [
        "print(op2)"
      ],
      "execution_count": null,
      "outputs": [
        {
          "output_type": "stream",
          "text": [
            "None\n"
          ],
          "name": "stdout"
        }
      ]
    },
    {
      "cell_type": "markdown",
      "metadata": {
        "id": "f-bivx0mZYVa"
      },
      "source": [
        "ฟังชันก์ไม่จำเป็นต้องมี input"
      ]
    },
    {
      "cell_type": "code",
      "metadata": {
        "id": "x60Mwu7UZZ3_"
      },
      "source": [
        "def pi():\r\n",
        "  return 3.14159265359"
      ],
      "execution_count": null,
      "outputs": []
    },
    {
      "cell_type": "code",
      "metadata": {
        "colab": {
          "base_uri": "https://localhost:8080/"
        },
        "id": "1W0JUNhzZsU4",
        "outputId": "5a641db6-b793-495f-fd7a-ba4eabdf5c17"
      },
      "source": [
        "#คำนวณพื้นที่วงกลมที่มีขนาดเส้นผ่านศูนย์กลางเท่ากับ3\r\n",
        "pi()*(1.5**2)"
      ],
      "execution_count": null,
      "outputs": [
        {
          "output_type": "execute_result",
          "data": {
            "text/plain": [
              "7.0685834705775"
            ]
          },
          "metadata": {
            "tags": []
          },
          "execution_count": 10
        }
      ]
    },
    {
      "cell_type": "code",
      "metadata": {
        "id": "ZBHN0hLSetoA"
      },
      "source": [
        "def print_my_name( ):\r\n",
        "      print( ' ชนกานต์  พูลผล  623021046-7 ' )"
      ],
      "execution_count": null,
      "outputs": []
    },
    {
      "cell_type": "code",
      "metadata": {
        "id": "OA0mixade4iD",
        "colab": {
          "base_uri": "https://localhost:8080/"
        },
        "outputId": "e9699cca-b338-448d-912d-3c55536d1cd3"
      },
      "source": [
        "print_my_name( )"
      ],
      "execution_count": null,
      "outputs": [
        {
          "output_type": "stream",
          "text": [
            " ชนกานต์  พูลผล  623021046-7 \n"
          ],
          "name": "stdout"
        }
      ]
    },
    {
      "cell_type": "markdown",
      "metadata": {
        "id": "U6BR2rtJe7Np"
      },
      "source": [
        "1. input ของ function ใน python มีสองแบบ input ที่จำเป็นต้องใส่ กับ input ที่ไม่จำเป็นต้องใส่ (มีค่า default)\r\n",
        "2. เราต้องเรียง input ที่จำเป็นต้องใส่ขึ้นก่อน"
      ]
    },
    {
      "cell_type": "code",
      "metadata": {
        "id": "kTEnxExXe8Su"
      },
      "source": [
        "def print_2lines_default(name,surname,ID,grade= 'F' ):\r\n",
        "      st = f' ชื่อ {name} นามสกุล {surname} isyl {ID}'\r\n",
        "      print(st)\r\n",
        "      st2=f'เกรดวิชา Multivariate >>> {grade}'\r\n",
        "      print(st2)"
      ],
      "execution_count": null,
      "outputs": []
    },
    {
      "cell_type": "code",
      "metadata": {
        "id": "G6u5eUB8fBBM",
        "colab": {
          "base_uri": "https://localhost:8080/"
        },
        "outputId": "0d9738c4-cbca-4dbe-aaf9-ec3b1c87226c"
      },
      "source": [
        "print_2lines_default('ชนกานต์' , 'พูลผล' , '623021046-7' )"
      ],
      "execution_count": null,
      "outputs": [
        {
          "output_type": "stream",
          "text": [
            " ชื่อ ชนกานต์ นามสกุล พูลผล isyl 623021046-7\n",
            "เกรดวิชา Multivariate >>> F\n"
          ],
          "name": "stdout"
        }
      ]
    },
    {
      "cell_type": "code",
      "metadata": {
        "id": "2FeRrxdLfKKc",
        "colab": {
          "base_uri": "https://localhost:8080/"
        },
        "outputId": "27bb2623-7c24-4f34-ad74-51399d0b718e"
      },
      "source": [
        "print_2lines_default('ชนกานต์' , 'พูลผล' , '623021046-7', 'A' )"
      ],
      "execution_count": null,
      "outputs": [
        {
          "output_type": "stream",
          "text": [
            " ชื่อ ชนกานต์ นามสกุล พูลผล isyl 623021046-7\n",
            "เกรดวิชา Multivariate >>> A\n"
          ],
          "name": "stdout"
        }
      ]
    },
    {
      "cell_type": "markdown",
      "metadata": {
        "id": "381DLDb0fWTE"
      },
      "source": [
        "เราสามารถเรียกฟังก์ชั่นโดยใช้ชื่อตัวแปรอื่นของฟังก์ชั่นช่วยได้\r\n"
      ]
    },
    {
      "cell_type": "code",
      "metadata": {
        "id": "OPxAJlQtfcuq",
        "colab": {
          "base_uri": "https://localhost:8080/"
        },
        "outputId": "63f2947e-f2d5-4bee-fa45-5f3f85cea9db"
      },
      "source": [
        "print_name2(name='ชนกานต์', surname='พูลผล', ID='623021046-7')"
      ],
      "execution_count": null,
      "outputs": [
        {
          "output_type": "stream",
          "text": [
            "ชื่อ ชนกานต์ นามสกุล พูลผล ID 623021046-7\n"
          ],
          "name": "stdout"
        }
      ]
    },
    {
      "cell_type": "markdown",
      "metadata": {
        "id": "ducqLJdgfshK"
      },
      "source": [
        "\r\n",
        "\r\n",
        "```\r\n",
        "HW3 ให้เขียน function คำนวณจำนวนวินาทีจาก เวลาต่อไปนี้\r\n",
        "\r\n",
        "'14-15-31'\r\n",
        "\r\n",
        "'13-00-01'\r\n",
        "\r\n",
        "'05-49-44'\r\n",
        "\r\n",
        "'00-00-16'\r\n",
        "และ print ให้สวยงาม\r\n",
        "```\r\n",
        "\r\n"
      ]
    },
    {
      "cell_type": "markdown",
      "metadata": {
        "id": "JxGJ0V9Yf1Rc"
      },
      "source": [
        "ANSWER"
      ]
    },
    {
      "cell_type": "code",
      "metadata": {
        "id": "aTeSbzIFf6tS"
      },
      "source": [
        "def function_time(time):\r\n",
        "    st = time.split('-')\r\n",
        "    ans = int(st[0]) * 3600 + int(st[1]) * 60 + int(st[2]) \r\n",
        "    print(f'คำนวณจำนวนวินาทีจาก {time} จะเท่ากับ {ans} วินาที')"
      ],
      "execution_count": null,
      "outputs": []
    },
    {
      "cell_type": "code",
      "metadata": {
        "id": "j6SxWjqrf9aJ",
        "colab": {
          "base_uri": "https://localhost:8080/"
        },
        "outputId": "c0fb9622-2480-40ac-c9b0-41cba5aa32cd"
      },
      "source": [
        "function_time('14-15-31')"
      ],
      "execution_count": null,
      "outputs": [
        {
          "output_type": "stream",
          "text": [
            "คำนวณจำนวนวินาทีจาก 14-15-31 จะเท่ากับ 51331 วินาที\n"
          ],
          "name": "stdout"
        }
      ]
    },
    {
      "cell_type": "code",
      "metadata": {
        "id": "bFoWEFdnf__4",
        "colab": {
          "base_uri": "https://localhost:8080/"
        },
        "outputId": "355390be-e420-4f51-9cee-7541adc10698"
      },
      "source": [
        "function_time('13-00-01')\r\n"
      ],
      "execution_count": null,
      "outputs": [
        {
          "output_type": "stream",
          "text": [
            "คำนวณจำนวนวินาทีจาก 13-00-01 จะเท่ากับ 46801 วินาที\n"
          ],
          "name": "stdout"
        }
      ]
    },
    {
      "cell_type": "code",
      "metadata": {
        "id": "LidO7O6CgDsI",
        "colab": {
          "base_uri": "https://localhost:8080/"
        },
        "outputId": "56a4177a-2311-4cff-9fc1-3b36fcab8552"
      },
      "source": [
        "function_time('15-49-44')"
      ],
      "execution_count": null,
      "outputs": [
        {
          "output_type": "stream",
          "text": [
            "คำนวณจำนวนวินาทีจาก 15-49-44 จะเท่ากับ 56984 วินาที\n"
          ],
          "name": "stdout"
        }
      ]
    },
    {
      "cell_type": "code",
      "metadata": {
        "id": "2vFGUJZPgEg0",
        "colab": {
          "base_uri": "https://localhost:8080/"
        },
        "outputId": "b8f60bbc-021d-44fb-ed68-a67f782272ae"
      },
      "source": [
        "function_time('00-00-16')"
      ],
      "execution_count": null,
      "outputs": [
        {
          "output_type": "stream",
          "text": [
            "คำนวณจำนวนวินาทีจาก 00-00-16 จะเท่ากับ 16 วินาที\n"
          ],
          "name": "stdout"
        }
      ]
    },
    {
      "cell_type": "code",
      "metadata": {
        "id": "vmgM4lDVQKbp"
      },
      "source": [
        ""
      ],
      "execution_count": null,
      "outputs": []
    },
    {
      "cell_type": "markdown",
      "metadata": {
        "id": "fkjoxC_RQKyh"
      },
      "source": [
        "\r\n",
        "Numpy -> package สำหรับจัดการกับ Array ที่เป็นตัวเลข (Matrix)\r\n",
        "\r\n",
        "Num+py -> Number-Numerical + python\r\n",
        "\r\n",
        "การใช้ package\r\n",
        "1. ``` import ``` ``` ชื่อpackage ``` #เรียกใช้ package\r\n",
        "2.``` ชื่อpackage ``` ``` ชื่อฟังก์ชั่น ``` #เรียกใช้ function\r\n",
        "\r\n",
        "\r\n"
      ]
    },
    {
      "cell_type": "code",
      "metadata": {
        "id": "UzTDbmV9SGpb"
      },
      "source": [
        "import numpy"
      ],
      "execution_count": 4,
      "outputs": []
    },
    {
      "cell_type": "markdown",
      "metadata": {
        "id": "1EewnzrMUDJS"
      },
      "source": [
        "สร้าง array (nump array)"
      ]
    },
    {
      "cell_type": "code",
      "metadata": {
        "id": "wJYeDxj_UB-d",
        "outputId": "f463cb12-23eb-4efc-c774-75c42d9bb153",
        "colab": {
          "base_uri": "https://localhost:8080/"
        }
      },
      "source": [
        "mat_ex1=numpy.array([[5.2,3.0,4.5],[9.1,0.1,0.3]])\r\n",
        "print(mat_ex1)"
      ],
      "execution_count": 5,
      "outputs": [
        {
          "output_type": "stream",
          "text": [
            "[[5.2 3.  4.5]\n",
            " [9.1 0.1 0.3]]\n"
          ],
          "name": "stdout"
        }
      ]
    },
    {
      "cell_type": "markdown",
      "metadata": {
        "id": "870YXlNRVJDb"
      },
      "source": [
        "ชี้ค่าใน numpy array"
      ]
    },
    {
      "cell_type": "code",
      "metadata": {
        "id": "of3xxfXgSZUG",
        "outputId": "afe06481-f69a-45ea-e5a2-9fab71fbfcaf",
        "colab": {
          "base_uri": "https://localhost:8080/"
        }
      },
      "source": [
        "mat_ex1[1,1] #[แถว,หลัก]"
      ],
      "execution_count": 6,
      "outputs": [
        {
          "output_type": "execute_result",
          "data": {
            "text/plain": [
              "0.1"
            ]
          },
          "metadata": {
            "tags": []
          },
          "execution_count": 6
        }
      ]
    },
    {
      "cell_type": "markdown",
      "metadata": {
        "id": "Js7ruCR3V4vY"
      },
      "source": [
        "ไม่มี numpy array"
      ]
    },
    {
      "cell_type": "code",
      "metadata": {
        "id": "zjSsRL64Vl0j",
        "outputId": "57583f1d-2f44-4d43-d683-a555e501bae6",
        "colab": {
          "base_uri": "https://localhost:8080/"
        }
      },
      "source": [
        "list_ex1 = [[5.2,3.0,4.5],[9.1,0.1,0.3]]\r\n",
        "print(list_ex1)"
      ],
      "execution_count": 7,
      "outputs": [
        {
          "output_type": "stream",
          "text": [
            "[[5.2, 3.0, 4.5], [9.1, 0.1, 0.3]]\n"
          ],
          "name": "stdout"
        }
      ]
    },
    {
      "cell_type": "markdown",
      "metadata": {
        "id": "je1BR6PgXqpO"
      },
      "source": [
        "list เป็นการชี้"
      ]
    },
    {
      "cell_type": "code",
      "metadata": {
        "id": "6OyCoMtFWOyz",
        "outputId": "f6253c22-7362-48cc-8900-8b936215d6ff",
        "colab": {
          "base_uri": "https://localhost:8080/"
        }
      },
      "source": [
        "list_ex1[1][1]"
      ],
      "execution_count": 9,
      "outputs": [
        {
          "output_type": "execute_result",
          "data": {
            "text/plain": [
              "0.1"
            ]
          },
          "metadata": {
            "tags": []
          },
          "execution_count": 9
        }
      ]
    },
    {
      "cell_type": "code",
      "metadata": {
        "id": "CtsiKJHhWnsB",
        "outputId": "42185eb1-4c93-4442-d1ab-488821018c38",
        "colab": {
          "base_uri": "https://localhost:8080/"
        }
      },
      "source": [
        "print(list_ex1)\r\n",
        "a = list_ex1[1]\r\n",
        "print(a)\r\n",
        "print(a[1])"
      ],
      "execution_count": 10,
      "outputs": [
        {
          "output_type": "stream",
          "text": [
            "[[5.2, 3.0, 4.5], [9.1, 0.1, 0.3]]\n",
            "[9.1, 0.1, 0.3]\n",
            "0.1\n"
          ],
          "name": "stdout"
        }
      ]
    },
    {
      "cell_type": "markdown",
      "metadata": {
        "id": "95BIbAmEYCbT"
      },
      "source": [
        "Matrix Operation\r\n",
        "\r\n",
        "data 2 แบบ -> matrix(2D array), scalar(ตัวเลขค่าคงที่)"
      ]
    },
    {
      "cell_type": "code",
      "metadata": {
        "id": "ZQDXSSMNXnmW",
        "outputId": "115c79a0-8cad-4a38-dac1-58c3f1b3c80d",
        "colab": {
          "base_uri": "https://localhost:8080/"
        }
      },
      "source": [
        "mat_ex1=numpy.array([[5.2,3.0,4.5],[9.1,0.1,0.3]])\r\n",
        "print(mat_ex1)\r\n",
        "mat_ex2=numpy.array([[5.2,3.0,4.5],[9.1,0.1,0.3]])\r\n",
        "print(mat_ex2)"
      ],
      "execution_count": 13,
      "outputs": [
        {
          "output_type": "stream",
          "text": [
            "[[5.2 3.  4.5]\n",
            " [9.1 0.1 0.3]]\n",
            "[[5.2 3.  4.5]\n",
            " [9.1 0.1 0.3]]\n"
          ],
          "name": "stdout"
        }
      ]
    },
    {
      "cell_type": "markdown",
      "metadata": {
        "id": "vimFAbZ7Y3x1"
      },
      "source": [
        "บวกและลบ mat ตัวเลขในตำแหน่งเดียวกันเอามาบวกกัน\r\n",
        "\r\n",
        "\r\n",
        "```\r\n",
        "หน้าตาของmat ต้องเหมือนกัน\r\n",
        "```\r\n",
        "\r\n"
      ]
    },
    {
      "cell_type": "markdown",
      "metadata": {
        "id": "M-Z8ZlRGZcSr"
      },
      "source": [
        ""
      ]
    },
    {
      "cell_type": "code",
      "metadata": {
        "id": "xSL04qXKYiQN",
        "outputId": "acbd63ec-4e4a-43cd-d3ba-df6868b75445",
        "colab": {
          "base_uri": "https://localhost:8080/"
        }
      },
      "source": [
        "mat_ex3 = mat_ex1 + mat_ex2\r\n",
        "print(mat_ex3)\r\n",
        "mat_ex4 = mat_ex1 - mat_ex2\r\n",
        "print(mat_ex4)\r\n"
      ],
      "execution_count": 14,
      "outputs": [
        {
          "output_type": "stream",
          "text": [
            "[[10.4  6.   9. ]\n",
            " [18.2  0.2  0.6]]\n",
            "[[0. 0. 0.]\n",
            " [0. 0. 0.]]\n"
          ],
          "name": "stdout"
        }
      ]
    },
    {
      "cell_type": "markdown",
      "metadata": {
        "id": "Mbf-4SIpZ9kf"
      },
      "source": [
        "การตรวจสอบขนาดของ mat "
      ]
    },
    {
      "cell_type": "code",
      "metadata": {
        "id": "86Gz7z9aZWPu",
        "outputId": "b01f59f0-28da-46a8-8fe5-978a672a0349",
        "colab": {
          "base_uri": "https://localhost:8080/"
        }
      },
      "source": [
        "mat_ex3.shape"
      ],
      "execution_count": 15,
      "outputs": [
        {
          "output_type": "execute_result",
          "data": {
            "text/plain": [
              "(2, 3)"
            ]
          },
          "metadata": {
            "tags": []
          },
          "execution_count": 15
        }
      ]
    },
    {
      "cell_type": "markdown",
      "metadata": {
        "id": "vSe6DH13aQn9"
      },
      "source": [
        "shape บอกขนาด ต่างจากลิสต์ "
      ]
    },
    {
      "cell_type": "code",
      "metadata": {
        "id": "Ie7sKzqgaOFX",
        "outputId": "fdb42a2c-0474-4f53-bb62-ed5b30772f53",
        "colab": {
          "base_uri": "https://localhost:8080/"
        }
      },
      "source": [
        "mat_ex3.shape[0]"
      ],
      "execution_count": 20,
      "outputs": [
        {
          "output_type": "execute_result",
          "data": {
            "text/plain": [
              "2"
            ]
          },
          "metadata": {
            "tags": []
          },
          "execution_count": 20
        }
      ]
    },
    {
      "cell_type": "markdown",
      "metadata": {
        "id": "aJjOODSJa0bg"
      },
      "source": [
        "\r\n",
        "\r\n",
        "```\r\n",
        "การใช้งานเหมือนลิสต์\r\n",
        "```\r\n",
        "\r\n",
        "\r\n"
      ]
    },
    {
      "cell_type": "markdown",
      "metadata": {
        "id": "lCXpbzrpa_om"
      },
      "source": [
        "การคูณ mat แถวคูณหลัก\r\n",
        "แถว 1 คูณ หลัก 2  "
      ]
    },
    {
      "cell_type": "code",
      "metadata": {
        "id": "VpBVa2jla_Lo",
        "outputId": "64218f25-2571-4a73-a25c-b9b5ccaaa585",
        "colab": {
          "base_uri": "https://localhost:8080/"
        }
      },
      "source": [
        "print(mat_ex1)\r\n",
        "print(mat_ex2)\r\n"
      ],
      "execution_count": 21,
      "outputs": [
        {
          "output_type": "stream",
          "text": [
            "[[5.2 3.  4.5]\n",
            " [9.1 0.1 0.3]]\n",
            "[[5.2 3.  4.5]\n",
            " [9.1 0.1 0.3]]\n"
          ],
          "name": "stdout"
        }
      ]
    },
    {
      "cell_type": "code",
      "metadata": {
        "id": "T20hJor4ajHN",
        "outputId": "0527391f-5aff-4bef-8f60-2411afbdabef",
        "colab": {
          "base_uri": "https://localhost:8080/"
        }
      },
      "source": [
        "mat_ex1*mat_ex2"
      ],
      "execution_count": 23,
      "outputs": [
        {
          "output_type": "execute_result",
          "data": {
            "text/plain": [
              "array([[2.704e+01, 9.000e+00, 2.025e+01],\n",
              "       [8.281e+01, 1.000e-02, 9.000e-02]])"
            ]
          },
          "metadata": {
            "tags": []
          },
          "execution_count": 23
        }
      ]
    },
    {
      "cell_type": "markdown",
      "metadata": {
        "id": "x6rHl8hAem6E"
      },
      "source": [
        "##การคูณmat สิ่งที่จะทำคูณmatได้คือ แถวคุณหลัก \r\n",
        "(หลักของmat ตัวข้างหน้า ต้องเท่ากับแถวของmatrixข้างหลัง)\r\n",
        "\r\n",
        "((ooo,X),(X,จจจ))= (ooo,จจจ)"
      ]
    },
    {
      "cell_type": "code",
      "metadata": {
        "id": "dW3DbbVcdsSd",
        "outputId": "681d95e8-7d51-4e64-9944-48fe6a53e4a3",
        "colab": {
          "base_uri": "https://localhost:8080/"
        }
      },
      "source": [
        "print(mat_ex1)\r\n",
        "print(mat_ex1.shape)\r\n",
        "print(mat_ex2)\r\n",
        "print(mat_ex2.shape)"
      ],
      "execution_count": 31,
      "outputs": [
        {
          "output_type": "stream",
          "text": [
            "[[5.2 3.  4.5]\n",
            " [9.1 0.1 0.3]]\n",
            "(2, 3)\n",
            "[[5.2 3.  4.5]\n",
            " [9.1 0.1 0.3]]\n",
            "(2, 3)\n"
          ],
          "name": "stdout"
        }
      ]
    },
    {
      "cell_type": "markdown",
      "metadata": {
        "id": "QdM0lF93gaCR"
      },
      "source": [
        "Transpose กลับแถวเป็นหลัก กลับ หลักเป็นแถว\r\n",
        "\r\n",
        "\r\n",
        "\r\n",
        "\r\n",
        "```\r\n",
        "mat.T\r\n",
        "```\r\n",
        "\r\n",
        "\r\n",
        "\r\n"
      ]
    },
    {
      "cell_type": "code",
      "metadata": {
        "id": "cR8D-XXghDKN",
        "outputId": "ef4d4f49-b0a6-4b2d-dccb-741e6d0da6c4",
        "colab": {
          "base_uri": "https://localhost:8080/"
        }
      },
      "source": [
        "print(mat_ex2)\r\n",
        "print(mat_ex2.shape)"
      ],
      "execution_count": 32,
      "outputs": [
        {
          "output_type": "stream",
          "text": [
            "[[5.2 3.  4.5]\n",
            " [9.1 0.1 0.3]]\n",
            "(2, 3)\n"
          ],
          "name": "stdout"
        }
      ]
    },
    {
      "cell_type": "code",
      "metadata": {
        "id": "294hOOzhhgoi",
        "outputId": "1c139216-1742-4f1f-c5bd-2870fc2763ac",
        "colab": {
          "base_uri": "https://localhost:8080/"
        }
      },
      "source": [
        "print(mat_ex2.T)\r\n",
        "print(mat_ex2.T.shape)"
      ],
      "execution_count": 33,
      "outputs": [
        {
          "output_type": "stream",
          "text": [
            "[[5.2 9.1]\n",
            " [3.  0.1]\n",
            " [4.5 0.3]]\n",
            "(3, 2)\n"
          ],
          "name": "stdout"
        }
      ]
    },
    {
      "cell_type": "code",
      "metadata": {
        "id": "K4d8RZy5hxVH",
        "outputId": "2772294e-cdbe-4f7e-cc27-64ee2cf389b6",
        "colab": {
          "base_uri": "https://localhost:8080/"
        }
      },
      "source": [
        "numpy.dot(mat_ex1,mat_ex2.T) #(2,3).(3,2)\r\n"
      ],
      "execution_count": 34,
      "outputs": [
        {
          "output_type": "execute_result",
          "data": {
            "text/plain": [
              "array([[56.29, 48.97],\n",
              "       [48.97, 82.91]])"
            ]
          },
          "metadata": {
            "tags": []
          },
          "execution_count": 34
        }
      ]
    },
    {
      "cell_type": "code",
      "metadata": {
        "id": "p7qze6ZKiCxj",
        "outputId": "af63f627-68fb-4fbc-ed1c-e911ef858234",
        "colab": {
          "base_uri": "https://localhost:8080/"
        }
      },
      "source": [
        "numpy.dot(mat_ex1.T,mat_ex2) #(3,2).(2,3)"
      ],
      "execution_count": 37,
      "outputs": [
        {
          "output_type": "execute_result",
          "data": {
            "text/plain": [
              "array([[109.85,  16.51,  26.13],\n",
              "       [ 16.51,   9.01,  13.53],\n",
              "       [ 26.13,  13.53,  20.34]])"
            ]
          },
          "metadata": {
            "tags": []
          },
          "execution_count": 37
        }
      ]
    },
    {
      "cell_type": "markdown",
      "metadata": {
        "id": "hifI49z0if95"
      },
      "source": [
        "### HW"
      ]
    },
    {
      "cell_type": "markdown",
      "metadata": {
        "id": "lJjhBuOKipTG"
      },
      "source": [
        "HW 4 อธิบายการหา Determinant และ inverse matric (รูปและคำอธิบาย)"
      ]
    },
    {
      "cell_type": "code",
      "metadata": {
        "id": "qYfyc42xiJGw"
      },
      "source": [
        ""
      ],
      "execution_count": null,
      "outputs": []
    }
  ]
}