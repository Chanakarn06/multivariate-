{
  "nbformat": 4,
  "nbformat_minor": 0,
  "metadata": {
    "colab": {
      "name": "Function_Numpy_Pandas.ipynb",
      "provenance": [],
      "authorship_tag": "ABX9TyPkljCnEsksoTvvf8zqVtoW",
      "include_colab_link": true
    },
    "kernelspec": {
      "name": "python3",
      "display_name": "Python 3"
    }
  },
  "cells": [
    {
      "cell_type": "markdown",
      "metadata": {
        "id": "view-in-github",
        "colab_type": "text"
      },
      "source": [
        "<a href=\"https://colab.research.google.com/github/Chanakarn06/multivariate-/blob/main/Function_Numpy_Pandas.ipynb\" target=\"_parent\"><img src=\"https://colab.research.google.com/assets/colab-badge.svg\" alt=\"Open In Colab\"/></a>"
      ]
    },
    {
      "cell_type": "markdown",
      "metadata": {
        "id": "uttRFPKTTbD_"
      },
      "source": [
        "Function"
      ]
    },
    {
      "cell_type": "markdown",
      "metadata": {
        "id": "DEfULSfDTgjB"
      },
      "source": [
        "input มีกี่ตัวก็ได้"
      ]
    },
    {
      "cell_type": "code",
      "metadata": {
        "id": "J9APJ-vPTdXj"
      },
      "source": [
        "def print_name(name,surname,ID):\r\n",
        "    st = f'ชื่อ {name} นามสกุล {surname} ID {ID}'\r\n",
        "    return st"
      ],
      "execution_count": 23,
      "outputs": []
    },
    {
      "cell_type": "code",
      "metadata": {
        "colab": {
          "base_uri": "https://localhost:8080/",
          "height": 35
        },
        "id": "qxZka3BAWzM0",
        "outputId": "2f040740-b45c-49a7-9731-5be7d854ff99"
      },
      "source": [
        "print_name('ชนกานต์','พูลผล','623021046-7')"
      ],
      "execution_count": 24,
      "outputs": [
        {
          "output_type": "execute_result",
          "data": {
            "application/vnd.google.colaboratory.intrinsic+json": {
              "type": "string"
            },
            "text/plain": [
              "'ชื่อ ชนกานต์ นามสกุล พูลผล ID 623021046-7'"
            ]
          },
          "metadata": {
            "tags": []
          },
          "execution_count": 24
        }
      ]
    },
    {
      "cell_type": "code",
      "metadata": {
        "colab": {
          "base_uri": "https://localhost:8080/"
        },
        "id": "-rTSZAAjXGfi",
        "outputId": "42bc6cf7-db41-42a3-a8b1-9c997faf5e01"
      },
      "source": [
        "output_string=print_name('ชนกานต์','พูลผล','623021046-7')\r\n",
        "print(output_string)"
      ],
      "execution_count": 25,
      "outputs": [
        {
          "output_type": "stream",
          "text": [
            "ชื่อ ชนกานต์ นามสกุล พูลผล ID 623021046-7\n"
          ],
          "name": "stdout"
        }
      ]
    },
    {
      "cell_type": "markdown",
      "metadata": {
        "id": "ptOxGInAX5Ch"
      },
      "source": [
        "ฟังชันก์ไม่จำเป็นต้องมี output"
      ]
    },
    {
      "cell_type": "code",
      "metadata": {
        "id": "HX8Kgn9zYCs6"
      },
      "source": [
        "def print_name2(name,surname,ID):\r\n",
        "    st = f'ชื่อ {name} นามสกุล {surname} ID {ID}'\r\n",
        "    print (st)\r\n"
      ],
      "execution_count": 32,
      "outputs": []
    },
    {
      "cell_type": "code",
      "metadata": {
        "colab": {
          "base_uri": "https://localhost:8080/"
        },
        "id": "ZFNM358dYFCz",
        "outputId": "ea5ba8c3-2650-4de3-968c-e24ac3c94152"
      },
      "source": [
        "print_name2('ชนกานต์','พูลผล','623021046-7')"
      ],
      "execution_count": 33,
      "outputs": [
        {
          "output_type": "stream",
          "text": [
            "ชื่อ ชนกานต์ นามสกุล พูลผล ID 623021046-7\n"
          ],
          "name": "stdout"
        }
      ]
    },
    {
      "cell_type": "code",
      "metadata": {
        "colab": {
          "base_uri": "https://localhost:8080/"
        },
        "id": "Beszb5BPYRwW",
        "outputId": "09eb9611-fd68-4e45-b530-6b66ab710721"
      },
      "source": [
        "op2 = print_name2('ชนกานต์','พูลผล','623021046-7')\r\n"
      ],
      "execution_count": 34,
      "outputs": [
        {
          "output_type": "stream",
          "text": [
            "ชื่อ ชนกานต์ นามสกุล พูลผล ID 623021046-7\n"
          ],
          "name": "stdout"
        }
      ]
    },
    {
      "cell_type": "code",
      "metadata": {
        "colab": {
          "base_uri": "https://localhost:8080/"
        },
        "id": "7CzDqEjdZMAX",
        "outputId": "0f0ab898-76b6-4bd0-8d97-490dc60248da"
      },
      "source": [
        "print(op2)"
      ],
      "execution_count": 35,
      "outputs": [
        {
          "output_type": "stream",
          "text": [
            "None\n"
          ],
          "name": "stdout"
        }
      ]
    },
    {
      "cell_type": "markdown",
      "metadata": {
        "id": "f-bivx0mZYVa"
      },
      "source": [
        "ฟังชันก์ไม่จำเป็นต้องมี input"
      ]
    },
    {
      "cell_type": "code",
      "metadata": {
        "id": "x60Mwu7UZZ3_"
      },
      "source": [
        "def pi():\r\n",
        "  return 3.14159265359"
      ],
      "execution_count": 36,
      "outputs": []
    },
    {
      "cell_type": "code",
      "metadata": {
        "colab": {
          "base_uri": "https://localhost:8080/"
        },
        "id": "1W0JUNhzZsU4",
        "outputId": "f26c34b8-203a-4ed7-d5b1-0593d33d2f2c"
      },
      "source": [
        "#คำนวณพื้นที่วงกลมที่มีขนาดเส้นผ่านศูนย์กลางเท่ากับ3\r\n",
        "pi()*(1.5**2)"
      ],
      "execution_count": 37,
      "outputs": [
        {
          "output_type": "execute_result",
          "data": {
            "text/plain": [
              "7.0685834705775"
            ]
          },
          "metadata": {
            "tags": []
          },
          "execution_count": 37
        }
      ]
    },
    {
      "cell_type": "code",
      "metadata": {
        "id": "lFHq8_ECaHdD"
      },
      "source": [
        "def print_my_name():\r\n",
        "  "
      ],
      "execution_count": null,
      "outputs": []
    }
  ]
}